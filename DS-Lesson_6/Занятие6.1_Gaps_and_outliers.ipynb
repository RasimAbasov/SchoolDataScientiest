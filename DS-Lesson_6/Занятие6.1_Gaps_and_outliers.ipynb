{
 "cells": [
  {
   "cell_type": "markdown",
   "metadata": {},
   "source": [
    "# Обработка пропусков и выбросов в процессе первичного анализа статистики\n",
    "\n",
    "### Disclaimer: \n",
    "_Представленные ниже примеры предназначены исключительно для демонстрации подходов к устранению аномалий в данных. Выбор подхода в \"боевых условиях\" должен осуществляеться в соответсвии с решаемыми задачами и с учетом особенностей формирования данных в исследуемом процессе_"
   ]
  },
  {
   "cell_type": "code",
   "execution_count": 1,
   "metadata": {},
   "outputs": [],
   "source": [
    "import pandas as pd\n",
    "import numpy as np\n",
    "import matplotlib.pyplot as plt\n",
    "import warnings\n",
    "warnings.filterwarnings('ignore')"
   ]
  },
  {
   "cell_type": "markdown",
   "metadata": {},
   "source": [
    "## Загрузка датасета"
   ]
  },
  {
   "cell_type": "code",
   "execution_count": 2,
   "metadata": {},
   "outputs": [
    {
     "data": {
      "text/html": [
       "<div>\n",
       "<style scoped>\n",
       "    .dataframe tbody tr th:only-of-type {\n",
       "        vertical-align: middle;\n",
       "    }\n",
       "\n",
       "    .dataframe tbody tr th {\n",
       "        vertical-align: top;\n",
       "    }\n",
       "\n",
       "    .dataframe thead th {\n",
       "        text-align: right;\n",
       "    }\n",
       "</style>\n",
       "<table border=\"1\" class=\"dataframe\">\n",
       "  <thead>\n",
       "    <tr style=\"text-align: right;\">\n",
       "      <th></th>\n",
       "      <th>sepal.length</th>\n",
       "      <th>sepal.width</th>\n",
       "      <th>petal.length</th>\n",
       "      <th>petal.width</th>\n",
       "      <th>variety</th>\n",
       "    </tr>\n",
       "  </thead>\n",
       "  <tbody>\n",
       "    <tr>\n",
       "      <th>143</th>\n",
       "      <td>6.8</td>\n",
       "      <td>3.2</td>\n",
       "      <td>5.9</td>\n",
       "      <td>2.3</td>\n",
       "      <td>Virginica</td>\n",
       "    </tr>\n",
       "    <tr>\n",
       "      <th>144</th>\n",
       "      <td>6.7</td>\n",
       "      <td>3.3</td>\n",
       "      <td>5.7</td>\n",
       "      <td>2.5</td>\n",
       "      <td>Virginica</td>\n",
       "    </tr>\n",
       "    <tr>\n",
       "      <th>145</th>\n",
       "      <td>6.7</td>\n",
       "      <td>3.0</td>\n",
       "      <td>5.2</td>\n",
       "      <td>2.3</td>\n",
       "      <td>Virginica</td>\n",
       "    </tr>\n",
       "    <tr>\n",
       "      <th>146</th>\n",
       "      <td>6.3</td>\n",
       "      <td>2.5</td>\n",
       "      <td>5.0</td>\n",
       "      <td>1.9</td>\n",
       "      <td>Virginica</td>\n",
       "    </tr>\n",
       "    <tr>\n",
       "      <th>147</th>\n",
       "      <td>6.5</td>\n",
       "      <td>3.0</td>\n",
       "      <td>5.2</td>\n",
       "      <td>2.0</td>\n",
       "      <td>Virginica</td>\n",
       "    </tr>\n",
       "    <tr>\n",
       "      <th>148</th>\n",
       "      <td>6.2</td>\n",
       "      <td>3.4</td>\n",
       "      <td>5.4</td>\n",
       "      <td>2.3</td>\n",
       "      <td>Virginica</td>\n",
       "    </tr>\n",
       "    <tr>\n",
       "      <th>149</th>\n",
       "      <td>5.9</td>\n",
       "      <td>3.0</td>\n",
       "      <td>5.1</td>\n",
       "      <td>1.8</td>\n",
       "      <td>Virginica</td>\n",
       "    </tr>\n",
       "  </tbody>\n",
       "</table>\n",
       "</div>"
      ],
      "text/plain": [
       "     sepal.length  sepal.width  petal.length  petal.width    variety\n",
       "143           6.8          3.2           5.9          2.3  Virginica\n",
       "144           6.7          3.3           5.7          2.5  Virginica\n",
       "145           6.7          3.0           5.2          2.3  Virginica\n",
       "146           6.3          2.5           5.0          1.9  Virginica\n",
       "147           6.5          3.0           5.2          2.0  Virginica\n",
       "148           6.2          3.4           5.4          2.3  Virginica\n",
       "149           5.9          3.0           5.1          1.8  Virginica"
      ]
     },
     "execution_count": 2,
     "metadata": {},
     "output_type": "execute_result"
    }
   ],
   "source": [
    "data = pd.read_csv(\"iris.csv\")\n",
    "data.tail(7)"
   ]
  },
  {
   "cell_type": "markdown",
   "metadata": {},
   "source": [
    "### Добавляем немного NaN"
   ]
  },
  {
   "cell_type": "code",
   "execution_count": 3,
   "metadata": {},
   "outputs": [
    {
     "data": {
      "text/html": [
       "<div>\n",
       "<style scoped>\n",
       "    .dataframe tbody tr th:only-of-type {\n",
       "        vertical-align: middle;\n",
       "    }\n",
       "\n",
       "    .dataframe tbody tr th {\n",
       "        vertical-align: top;\n",
       "    }\n",
       "\n",
       "    .dataframe thead th {\n",
       "        text-align: right;\n",
       "    }\n",
       "</style>\n",
       "<table border=\"1\" class=\"dataframe\">\n",
       "  <thead>\n",
       "    <tr style=\"text-align: right;\">\n",
       "      <th></th>\n",
       "      <th>sepal.length</th>\n",
       "      <th>sepal.width</th>\n",
       "      <th>petal.length</th>\n",
       "      <th>petal.width</th>\n",
       "      <th>variety</th>\n",
       "    </tr>\n",
       "  </thead>\n",
       "  <tbody>\n",
       "    <tr>\n",
       "      <th>143</th>\n",
       "      <td>6.8</td>\n",
       "      <td>3.2</td>\n",
       "      <td>5.9</td>\n",
       "      <td>2.3</td>\n",
       "      <td>Virginica</td>\n",
       "    </tr>\n",
       "    <tr>\n",
       "      <th>144</th>\n",
       "      <td>6.7</td>\n",
       "      <td>3.3</td>\n",
       "      <td>5.7</td>\n",
       "      <td>2.5</td>\n",
       "      <td>Virginica</td>\n",
       "    </tr>\n",
       "    <tr>\n",
       "      <th>145</th>\n",
       "      <td>6.7</td>\n",
       "      <td>3.0</td>\n",
       "      <td>5.2</td>\n",
       "      <td>NaN</td>\n",
       "      <td>Virginica</td>\n",
       "    </tr>\n",
       "    <tr>\n",
       "      <th>146</th>\n",
       "      <td>6.3</td>\n",
       "      <td>2.5</td>\n",
       "      <td>5.0</td>\n",
       "      <td>NaN</td>\n",
       "      <td>Virginica</td>\n",
       "    </tr>\n",
       "    <tr>\n",
       "      <th>147</th>\n",
       "      <td>6.5</td>\n",
       "      <td>3.0</td>\n",
       "      <td>5.2</td>\n",
       "      <td>NaN</td>\n",
       "      <td>Virginica</td>\n",
       "    </tr>\n",
       "    <tr>\n",
       "      <th>148</th>\n",
       "      <td>6.2</td>\n",
       "      <td>3.4</td>\n",
       "      <td>5.4</td>\n",
       "      <td>NaN</td>\n",
       "      <td>Virginica</td>\n",
       "    </tr>\n",
       "    <tr>\n",
       "      <th>149</th>\n",
       "      <td>5.9</td>\n",
       "      <td>3.0</td>\n",
       "      <td>5.1</td>\n",
       "      <td>1.8</td>\n",
       "      <td>Virginica</td>\n",
       "    </tr>\n",
       "  </tbody>\n",
       "</table>\n",
       "</div>"
      ],
      "text/plain": [
       "     sepal.length  sepal.width  petal.length  petal.width    variety\n",
       "143           6.8          3.2           5.9          2.3  Virginica\n",
       "144           6.7          3.3           5.7          2.5  Virginica\n",
       "145           6.7          3.0           5.2          NaN  Virginica\n",
       "146           6.3          2.5           5.0          NaN  Virginica\n",
       "147           6.5          3.0           5.2          NaN  Virginica\n",
       "148           6.2          3.4           5.4          NaN  Virginica\n",
       "149           5.9          3.0           5.1          1.8  Virginica"
      ]
     },
     "execution_count": 3,
     "metadata": {},
     "output_type": "execute_result"
    }
   ],
   "source": [
    "data[\"petal.width\"].iloc[145:149] = None\n",
    "data.tail(7)"
   ]
  },
  {
   "cell_type": "markdown",
   "metadata": {},
   "source": [
    "## Построение гистограммы \"petal.length\""
   ]
  },
  {
   "cell_type": "code",
   "execution_count": 4,
   "metadata": {},
   "outputs": [
    {
     "data": {
      "image/png": "[encoded data removed]",
      "text/plain": [
       "<Figure size 1000x500 with 1 Axes>"
      ]
     },
     "metadata": {},
     "output_type": "display_data"
    }
   ],
   "source": [
    "data[\"petal.length\"].plot.hist( figsize=(10,5), \n",
    "                color='#21BA72', alpha=0.5, bins=20 );"
   ]
  },
  {
   "cell_type": "markdown",
   "metadata": {},
   "source": [
    "### Есть выброс \"petal.length\" в диапазоне примерно 1..1.9\n",
    "\n",
    "### Зафиксируем исходные данные до заполнения NaN "
   ]
  },
  {
   "cell_type": "code",
   "execution_count": 5,
   "metadata": {},
   "outputs": [],
   "source": [
    "with_outliers = data[\"petal.length\"].head(20).copy()\n",
    "before_NaN = data[\"petal.width\"].iloc[25:42].copy()"
   ]
  },
  {
   "cell_type": "markdown",
   "metadata": {},
   "source": [
    "### Заменяем  выброс \"petal.length\" расчетными данными\n",
    "\n",
    "#### длина лепестка не может быть отрицательной!"
   ]
  },
  {
   "cell_type": "code",
   "execution_count": 6,
   "metadata": {},
   "outputs": [
    {
     "data": {
      "image/png": "[encoded data removed]",
      "text/plain": [
       "<Figure size 1000x500 with 1 Axes>"
      ]
     },
     "metadata": {},
     "output_type": "display_data"
    }
   ],
   "source": [
    "data[\"petal.length\"][data[\"petal.length\"]<=2.8] = np.clip(np.random.normal(loc= data[\"petal.length\"][data[\"petal.length\"]>=2.8].median(),\n",
    "                                                        scale=data[\"petal.length\"].var(), \n",
    "                                                        size=len(data[\"petal.length\"][data[\"petal.length\"]<=2.8])), \n",
    "                                                          data[\"petal.length\"].min(),\n",
    "                                                          data[\"petal.length\"].max())\n",
    "data[\"petal.length\"].plot.hist( figsize=(10,5), \n",
    "                color='#21BA72', alpha=0.5, bins=20 );"
   ]
  },
  {
   "cell_type": "code",
   "execution_count": 7,
   "metadata": {},
   "outputs": [],
   "source": [
    "### снова выбросы :-(\n",
    "### убираем выброс минимумов ..."
   ]
  },
  {
   "cell_type": "code",
   "execution_count": 8,
   "metadata": {},
   "outputs": [
    {
     "data": {
      "image/png": "[encoded data removed]",
      "text/plain": [
       "<Figure size 1000x500 with 1 Axes>"
      ]
     },
     "metadata": {},
     "output_type": "display_data"
    }
   ],
   "source": [
    "data[\"petal.length\"][data[\"petal.length\"]==data[\"petal.length\"].min()] = np.clip(np.random.normal(loc= data[\"petal.length\"].median(),\n",
    "                                                        scale=data[\"petal.length\"].var(), \n",
    "                                                        size=len(data[\"petal.length\"][data[\"petal.length\"]==data[\"petal.length\"].min()]) ), \n",
    "                                                          data[\"petal.length\"].min(),\n",
    "                                                          data[\"petal.length\"].max())\n",
    "\n",
    "\n",
    "\n",
    "data[\"petal.length\"].plot.hist( figsize=(10,5), \n",
    "                color='#21BA72', alpha=0.5, bins=20 );"
   ]
  },
  {
   "cell_type": "markdown",
   "metadata": {},
   "source": [
    "### ... и убираем выброс максимумов "
   ]
  },
  {
   "cell_type": "code",
   "execution_count": 9,
   "metadata": {},
   "outputs": [
    {
     "data": {
      "image/png": "[encoded data removed]",
      "text/plain": [
       "<Figure size 1000x500 with 1 Axes>"
      ]
     },
     "metadata": {},
     "output_type": "display_data"
    }
   ],
   "source": [
    "data[\"petal.length\"][data[\"petal.length\"]==data[\"petal.length\"].max()] = np.clip(np.random.normal(loc= data[\"petal.length\"].median(),\n",
    "                                                        scale=data[\"petal.length\"].var(), \n",
    "                                                        size=len(data[\"petal.length\"][data[\"petal.length\"]==data[\"petal.length\"].max()]) ), \n",
    "                                                          data[\"petal.length\"].min(),\n",
    "                                                          data[\"petal.length\"].max())\n",
    "data[\"petal.length\"].plot.hist( figsize=(10,5), \n",
    "                color='#21BA72', alpha=0.5, bins=20 );"
   ]
  },
  {
   "cell_type": "code",
   "execution_count": 10,
   "metadata": {},
   "outputs": [
    {
     "data": {
      "text/html": [
       "<div>\n",
       "<style scoped>\n",
       "    .dataframe tbody tr th:only-of-type {\n",
       "        vertical-align: middle;\n",
       "    }\n",
       "\n",
       "    .dataframe tbody tr th {\n",
       "        vertical-align: top;\n",
       "    }\n",
       "\n",
       "    .dataframe thead th {\n",
       "        text-align: right;\n",
       "    }\n",
       "</style>\n",
       "<table border=\"1\" class=\"dataframe\">\n",
       "  <thead>\n",
       "    <tr style=\"text-align: right;\">\n",
       "      <th></th>\n",
       "      <th>With_outliers</th>\n",
       "      <th>After_norm</th>\n",
       "    </tr>\n",
       "  </thead>\n",
       "  <tbody>\n",
       "    <tr>\n",
       "      <th>0</th>\n",
       "      <td>1.4</td>\n",
       "      <td>1.827541</td>\n",
       "    </tr>\n",
       "    <tr>\n",
       "      <th>1</th>\n",
       "      <td>1.4</td>\n",
       "      <td>3.838343</td>\n",
       "    </tr>\n",
       "    <tr>\n",
       "      <th>2</th>\n",
       "      <td>1.3</td>\n",
       "      <td>3.693198</td>\n",
       "    </tr>\n",
       "    <tr>\n",
       "      <th>3</th>\n",
       "      <td>1.5</td>\n",
       "      <td>6.590381</td>\n",
       "    </tr>\n",
       "    <tr>\n",
       "      <th>4</th>\n",
       "      <td>1.4</td>\n",
       "      <td>4.494987</td>\n",
       "    </tr>\n",
       "    <tr>\n",
       "      <th>5</th>\n",
       "      <td>1.7</td>\n",
       "      <td>4.993769</td>\n",
       "    </tr>\n",
       "    <tr>\n",
       "      <th>6</th>\n",
       "      <td>1.4</td>\n",
       "      <td>6.376815</td>\n",
       "    </tr>\n",
       "    <tr>\n",
       "      <th>7</th>\n",
       "      <td>1.5</td>\n",
       "      <td>6.663713</td>\n",
       "    </tr>\n",
       "    <tr>\n",
       "      <th>8</th>\n",
       "      <td>1.4</td>\n",
       "      <td>2.929243</td>\n",
       "    </tr>\n",
       "    <tr>\n",
       "      <th>9</th>\n",
       "      <td>1.5</td>\n",
       "      <td>3.197798</td>\n",
       "    </tr>\n",
       "    <tr>\n",
       "      <th>10</th>\n",
       "      <td>1.5</td>\n",
       "      <td>6.652752</td>\n",
       "    </tr>\n",
       "    <tr>\n",
       "      <th>11</th>\n",
       "      <td>1.6</td>\n",
       "      <td>4.029448</td>\n",
       "    </tr>\n",
       "    <tr>\n",
       "      <th>12</th>\n",
       "      <td>1.4</td>\n",
       "      <td>2.985441</td>\n",
       "    </tr>\n",
       "    <tr>\n",
       "      <th>13</th>\n",
       "      <td>1.1</td>\n",
       "      <td>3.139385</td>\n",
       "    </tr>\n",
       "    <tr>\n",
       "      <th>14</th>\n",
       "      <td>1.2</td>\n",
       "      <td>4.616821</td>\n",
       "    </tr>\n",
       "    <tr>\n",
       "      <th>15</th>\n",
       "      <td>1.5</td>\n",
       "      <td>4.642001</td>\n",
       "    </tr>\n",
       "    <tr>\n",
       "      <th>16</th>\n",
       "      <td>1.3</td>\n",
       "      <td>1.065323</td>\n",
       "    </tr>\n",
       "    <tr>\n",
       "      <th>17</th>\n",
       "      <td>1.4</td>\n",
       "      <td>4.751790</td>\n",
       "    </tr>\n",
       "    <tr>\n",
       "      <th>18</th>\n",
       "      <td>1.7</td>\n",
       "      <td>3.878122</td>\n",
       "    </tr>\n",
       "    <tr>\n",
       "      <th>19</th>\n",
       "      <td>1.5</td>\n",
       "      <td>3.433020</td>\n",
       "    </tr>\n",
       "  </tbody>\n",
       "</table>\n",
       "</div>"
      ],
      "text/plain": [
       "    With_outliers  After_norm\n",
       "0             1.4    1.827541\n",
       "1             1.4    3.838343\n",
       "2             1.3    3.693198\n",
       "3             1.5    6.590381\n",
       "4             1.4    4.494987\n",
       "5             1.7    4.993769\n",
       "6             1.4    6.376815\n",
       "7             1.5    6.663713\n",
       "8             1.4    2.929243\n",
       "9             1.5    3.197798\n",
       "10            1.5    6.652752\n",
       "11            1.6    4.029448\n",
       "12            1.4    2.985441\n",
       "13            1.1    3.139385\n",
       "14            1.2    4.616821\n",
       "15            1.5    4.642001\n",
       "16            1.3    1.065323\n",
       "17            1.4    4.751790\n",
       "18            1.7    3.878122\n",
       "19            1.5    3.433020"
      ]
     },
     "metadata": {},
     "output_type": "display_data"
    }
   ],
   "source": [
    "display(pd.DataFrame(list(zip(with_outliers, data[\"petal.length\"].head(20))),\n",
    "                   columns=[\"With_outliers\", \"After_norm\"]))"
   ]
  },
  {
   "cell_type": "markdown",
   "metadata": {},
   "source": [
    "###### Выброс исчез"
   ]
  },
  {
   "cell_type": "markdown",
   "metadata": {},
   "source": [
    "## Построение гистограмы для \"petal.width\""
   ]
  },
  {
   "cell_type": "code",
   "execution_count": 11,
   "metadata": {},
   "outputs": [
    {
     "data": {
      "image/png": "[encoded data removed]",
      "text/plain": [
       "<Figure size 1000x500 with 1 Axes>"
      ]
     },
     "metadata": {},
     "output_type": "display_data"
    }
   ],
   "source": [
    "data[\"petal.width\"].plot.hist( figsize=(10,5), \n",
    "                color='#21BA72', alpha=0.5, bins=20 );"
   ]
  },
  {
   "cell_type": "markdown",
   "metadata": {},
   "source": [
    "### убеждаемся в наличии NaN"
   ]
  },
  {
   "cell_type": "code",
   "execution_count": 12,
   "metadata": {},
   "outputs": [
    {
     "data": {
      "text/plain": [
       "145   NaN\n",
       "146   NaN\n",
       "147   NaN\n",
       "148   NaN\n",
       "Name: petal.width, dtype: float64"
      ]
     },
     "execution_count": 12,
     "metadata": {},
     "output_type": "execute_result"
    }
   ],
   "source": [
    "data[\"petal.width\"][data[\"petal.width\"].isnull()]"
   ]
  },
  {
   "cell_type": "markdown",
   "metadata": {},
   "source": [
    "### Заполняем пропуски"
   ]
  },
  {
   "cell_type": "code",
   "execution_count": 13,
   "metadata": {},
   "outputs": [
    {
     "data": {
      "image/png": "[encoded data removed]",
      "text/plain": [
       "<Figure size 1000x500 with 1 Axes>"
      ]
     },
     "metadata": {},
     "output_type": "display_data"
    }
   ],
   "source": [
    "# используем std()\n",
    "data[\"petal.width\"].fillna(data[\"petal.width\"].mean() \n",
    "                           + data[\"petal.width\"].std()*np.random.randint(low=-1, high=2, size=1)[0], # ограничиваем отклонение\n",
    "                          inplace=True)\n",
    "data[\"petal.width\"].plot.hist( figsize=(10,5), \n",
    "                color='#21BA72', alpha=0.5, bins=20 );"
   ]
  },
  {
   "cell_type": "code",
   "execution_count": 14,
   "metadata": {},
   "outputs": [
    {
     "data": {
      "text/plain": [
       "143    2.300000\n",
       "144    2.500000\n",
       "145    1.173973\n",
       "146    1.173973\n",
       "147    1.173973\n",
       "148    1.173973\n",
       "149    1.800000\n",
       "Name: petal.width, dtype: float64"
      ]
     },
     "execution_count": 14,
     "metadata": {},
     "output_type": "execute_result"
    }
   ],
   "source": [
    "data[\"petal.width\"].tail(7)"
   ]
  },
  {
   "cell_type": "markdown",
   "metadata": {},
   "source": [
    "### добавим еще пропусков (примерно 1/6)\n",
    "### и проверим результаты по критерию $\\chi^2$"
   ]
  },
  {
   "cell_type": "code",
   "execution_count": 15,
   "metadata": {},
   "outputs": [
    {
     "data": {
      "text/plain": [
       "array([21.,  5.,  5.,  1.,  1.,  0.,  0.,  7.,  7.,  5., 20., 11.,  3.,\n",
       "        2.,  7.,  7.,  5.,  2.,  5.,  5.])"
      ]
     },
     "execution_count": 15,
     "metadata": {},
     "output_type": "execute_result"
    },
    {
     "data": {
      "image/png": "[encoded data removed]",
      "text/plain": [
       "<Figure size 1000x500 with 1 Axes>"
      ]
     },
     "metadata": {},
     "output_type": "display_data"
    }
   ],
   "source": [
    "data[\"petal.width\"].iloc[125:139] = None\n",
    "data[\"petal.width\"].iloc[25:42] = None\n",
    "data[\"petal.width\"].plot.hist( figsize=(10,5), \n",
    "                color='#21BA72', alpha=0.5, bins=20 );\n",
    "\n",
    "# фиксируем значения гистограммы (с разными BINS)\n",
    "b_before, n_before, _ = plt.hist(data[\"petal.width\"], bins=20, visible=False);\n",
    "b2 = 5\n",
    "b_before_2, n_before_2, _ = plt.hist(data[\"petal.width\"], bins=b2, visible=False);\n",
    "\n",
    "# значения столбиков гистограммы\n",
    "b_before"
   ]
  },
  {
   "cell_type": "code",
   "execution_count": 16,
   "metadata": {},
   "outputs": [
    {
     "data": {
      "text/plain": [
       "25   NaN\n",
       "26   NaN\n",
       "27   NaN\n",
       "28   NaN\n",
       "29   NaN\n",
       "30   NaN\n",
       "31   NaN\n",
       "32   NaN\n",
       "33   NaN\n",
       "34   NaN\n",
       "35   NaN\n",
       "36   NaN\n",
       "37   NaN\n",
       "38   NaN\n",
       "39   NaN\n",
       "40   NaN\n",
       "41   NaN\n",
       "Name: petal.width, dtype: float64"
      ]
     },
     "execution_count": 16,
     "metadata": {},
     "output_type": "execute_result"
    }
   ],
   "source": [
    "data[\"petal.width\"].iloc[25:42]"
   ]
  },
  {
   "cell_type": "markdown",
   "metadata": {},
   "source": [
    "### Подготовка корректирующих значений"
   ]
  },
  {
   "cell_type": "code",
   "execution_count": 17,
   "metadata": {},
   "outputs": [
    {
     "data": {
      "text/html": [
       "<div>\n",
       "<style scoped>\n",
       "    .dataframe tbody tr th:only-of-type {\n",
       "        vertical-align: middle;\n",
       "    }\n",
       "\n",
       "    .dataframe tbody tr th {\n",
       "        vertical-align: top;\n",
       "    }\n",
       "\n",
       "    .dataframe thead th {\n",
       "        text-align: right;\n",
       "    }\n",
       "</style>\n",
       "<table border=\"1\" class=\"dataframe\">\n",
       "  <thead>\n",
       "    <tr style=\"text-align: right;\">\n",
       "      <th></th>\n",
       "      <th>petal.width</th>\n",
       "    </tr>\n",
       "  </thead>\n",
       "  <tbody>\n",
       "    <tr>\n",
       "      <th>0</th>\n",
       "      <td>1.616743</td>\n",
       "    </tr>\n",
       "    <tr>\n",
       "      <th>1</th>\n",
       "      <td>1.668766</td>\n",
       "    </tr>\n",
       "    <tr>\n",
       "      <th>2</th>\n",
       "      <td>0.572870</td>\n",
       "    </tr>\n",
       "    <tr>\n",
       "      <th>3</th>\n",
       "      <td>1.163841</td>\n",
       "    </tr>\n",
       "    <tr>\n",
       "      <th>4</th>\n",
       "      <td>1.433937</td>\n",
       "    </tr>\n",
       "    <tr>\n",
       "      <th>...</th>\n",
       "      <td>...</td>\n",
       "    </tr>\n",
       "    <tr>\n",
       "      <th>145</th>\n",
       "      <td>0.757011</td>\n",
       "    </tr>\n",
       "    <tr>\n",
       "      <th>146</th>\n",
       "      <td>1.183449</td>\n",
       "    </tr>\n",
       "    <tr>\n",
       "      <th>147</th>\n",
       "      <td>0.772827</td>\n",
       "    </tr>\n",
       "    <tr>\n",
       "      <th>148</th>\n",
       "      <td>0.901743</td>\n",
       "    </tr>\n",
       "    <tr>\n",
       "      <th>149</th>\n",
       "      <td>1.023986</td>\n",
       "    </tr>\n",
       "  </tbody>\n",
       "</table>\n",
       "<p>150 rows × 1 columns</p>\n",
       "</div>"
      ],
      "text/plain": [
       "     petal.width\n",
       "0       1.616743\n",
       "1       1.668766\n",
       "2       0.572870\n",
       "3       1.163841\n",
       "4       1.433937\n",
       "..           ...\n",
       "145     0.757011\n",
       "146     1.183449\n",
       "147     0.772827\n",
       "148     0.901743\n",
       "149     1.023986\n",
       "\n",
       "[150 rows x 1 columns]"
      ]
     },
     "execution_count": 17,
     "metadata": {},
     "output_type": "execute_result"
    }
   ],
   "source": [
    "df_corr = pd.DataFrame(np.random.normal(loc=data[\"petal.width\"].mean(),\n",
    "                                scale=data[\"petal.width\"].var(), \n",
    "                                size=len(data[\"petal.width\"])),\n",
    "                      columns = [\"petal.width\"]) \n",
    "                                \n",
    "df_corr                      "
   ]
  },
  {
   "cell_type": "code",
   "execution_count": 18,
   "metadata": {},
   "outputs": [
    {
     "data": {
      "text/plain": [
       "petal.width   -0.004842\n",
       "dtype: float64"
      ]
     },
     "execution_count": 18,
     "metadata": {},
     "output_type": "execute_result"
    }
   ],
   "source": [
    "df_corr.min() # больше нуля :-)"
   ]
  },
  {
   "cell_type": "markdown",
   "metadata": {},
   "source": [
    "### Заполняем пропуски"
   ]
  },
  {
   "cell_type": "code",
   "execution_count": 19,
   "metadata": {},
   "outputs": [
    {
     "data": {
      "text/html": [
       "<div>\n",
       "<style scoped>\n",
       "    .dataframe tbody tr th:only-of-type {\n",
       "        vertical-align: middle;\n",
       "    }\n",
       "\n",
       "    .dataframe tbody tr th {\n",
       "        vertical-align: top;\n",
       "    }\n",
       "\n",
       "    .dataframe thead th {\n",
       "        text-align: right;\n",
       "    }\n",
       "</style>\n",
       "<table border=\"1\" class=\"dataframe\">\n",
       "  <thead>\n",
       "    <tr style=\"text-align: right;\">\n",
       "      <th></th>\n",
       "      <th>before_set_NaN</th>\n",
       "      <th>After_filling</th>\n",
       "    </tr>\n",
       "  </thead>\n",
       "  <tbody>\n",
       "    <tr>\n",
       "      <th>0</th>\n",
       "      <td>0.2</td>\n",
       "      <td>0.675680</td>\n",
       "    </tr>\n",
       "    <tr>\n",
       "      <th>1</th>\n",
       "      <td>0.4</td>\n",
       "      <td>1.253484</td>\n",
       "    </tr>\n",
       "    <tr>\n",
       "      <th>2</th>\n",
       "      <td>0.2</td>\n",
       "      <td>1.268283</td>\n",
       "    </tr>\n",
       "    <tr>\n",
       "      <th>3</th>\n",
       "      <td>0.2</td>\n",
       "      <td>-0.004842</td>\n",
       "    </tr>\n",
       "    <tr>\n",
       "      <th>4</th>\n",
       "      <td>0.2</td>\n",
       "      <td>1.642401</td>\n",
       "    </tr>\n",
       "    <tr>\n",
       "      <th>5</th>\n",
       "      <td>0.2</td>\n",
       "      <td>0.281174</td>\n",
       "    </tr>\n",
       "    <tr>\n",
       "      <th>6</th>\n",
       "      <td>0.4</td>\n",
       "      <td>1.066953</td>\n",
       "    </tr>\n",
       "    <tr>\n",
       "      <th>7</th>\n",
       "      <td>0.1</td>\n",
       "      <td>1.436001</td>\n",
       "    </tr>\n",
       "    <tr>\n",
       "      <th>8</th>\n",
       "      <td>0.2</td>\n",
       "      <td>0.531911</td>\n",
       "    </tr>\n",
       "    <tr>\n",
       "      <th>9</th>\n",
       "      <td>0.2</td>\n",
       "      <td>1.010252</td>\n",
       "    </tr>\n",
       "    <tr>\n",
       "      <th>10</th>\n",
       "      <td>0.2</td>\n",
       "      <td>1.351440</td>\n",
       "    </tr>\n",
       "    <tr>\n",
       "      <th>11</th>\n",
       "      <td>0.2</td>\n",
       "      <td>1.984124</td>\n",
       "    </tr>\n",
       "    <tr>\n",
       "      <th>12</th>\n",
       "      <td>0.1</td>\n",
       "      <td>1.808308</td>\n",
       "    </tr>\n",
       "    <tr>\n",
       "      <th>13</th>\n",
       "      <td>0.2</td>\n",
       "      <td>0.317390</td>\n",
       "    </tr>\n",
       "    <tr>\n",
       "      <th>14</th>\n",
       "      <td>0.2</td>\n",
       "      <td>1.253112</td>\n",
       "    </tr>\n",
       "    <tr>\n",
       "      <th>15</th>\n",
       "      <td>0.3</td>\n",
       "      <td>1.698449</td>\n",
       "    </tr>\n",
       "    <tr>\n",
       "      <th>16</th>\n",
       "      <td>0.3</td>\n",
       "      <td>1.110872</td>\n",
       "    </tr>\n",
       "  </tbody>\n",
       "</table>\n",
       "</div>"
      ],
      "text/plain": [
       "    before_set_NaN  After_filling\n",
       "0              0.2       0.675680\n",
       "1              0.4       1.253484\n",
       "2              0.2       1.268283\n",
       "3              0.2      -0.004842\n",
       "4              0.2       1.642401\n",
       "5              0.2       0.281174\n",
       "6              0.4       1.066953\n",
       "7              0.1       1.436001\n",
       "8              0.2       0.531911\n",
       "9              0.2       1.010252\n",
       "10             0.2       1.351440\n",
       "11             0.2       1.984124\n",
       "12             0.1       1.808308\n",
       "13             0.2       0.317390\n",
       "14             0.2       1.253112\n",
       "15             0.3       1.698449\n",
       "16             0.3       1.110872"
      ]
     },
     "metadata": {},
     "output_type": "display_data"
    }
   ],
   "source": [
    "data.fillna(value=df_corr, inplace=True)\n",
    "display(pd.DataFrame(list(zip(before_NaN, data[\"petal.width\"].iloc[25:42])),\n",
    "                   columns=[\"before_set_NaN\", \"After_filling\"]))"
   ]
  },
  {
   "cell_type": "code",
   "execution_count": 20,
   "metadata": {},
   "outputs": [
    {
     "data": {
      "image/png": "[encoded data removed]",
      "text/plain": [
       "<Figure size 1000x500 with 1 Axes>"
      ]
     },
     "metadata": {},
     "output_type": "display_data"
    }
   ],
   "source": [
    "data[\"petal.width\"].plot.hist( figsize=(10,5), \n",
    "                color='#21BA72', alpha=0.5, bins=20, );\n",
    "# получаем параметры гистограммы c bins = 20\n",
    "b_after, n_after, _ = plt.hist(data[\"petal.width\"], bins=20, visible=False);\n",
    "# и bins = b2\n",
    "b_after_2, n_after_2, _ = plt.hist(data[\"petal.width\"], bins=b2, visible=False);"
   ]
  },
  {
   "cell_type": "markdown",
   "metadata": {},
   "source": [
    "### Почти похоже на исходный :-)\n",
    "\n",
    "#### ... но так ли это\n",
    "#### используем критерий $\\chi^2$"
   ]
  },
  {
   "cell_type": "code",
   "execution_count": 21,
   "metadata": {},
   "outputs": [],
   "source": [
    "#!pip install scipy==1.6.3"
   ]
  },
  {
   "cell_type": "code",
   "execution_count": 22,
   "metadata": {},
   "outputs": [
    {
     "data": {
      "text/plain": [
       "'1.6.3'"
      ]
     },
     "execution_count": 22,
     "metadata": {},
     "output_type": "execute_result"
    }
   ],
   "source": [
    "import scipy\n",
    "scipy.__version__"
   ]
  },
  {
   "cell_type": "code",
   "execution_count": 23,
   "metadata": {},
   "outputs": [
    {
     "name": "stdout",
     "output_type": "stream",
     "text": [
      "ДО\n",
      " [21.  5.  5.  1.  1.  0.  0.  7.  7.  5. 20. 11.  3.  2.  7.  7.  5.  2.\n",
      "  5.  5.] \n",
      "ПОСЛЕ\n",
      " [ 4. 18.  8.  5.  3.  1.  1.  2. 15. 13. 18.  9. 15.  5.  8.  4.  9.  2.\n",
      "  5.  5.]\n",
      "p_value = nan\n"
     ]
    }
   ],
   "source": [
    "# сравниваем методом хи-квадрат\n",
    "from scipy.stats import chisquare, chi2_contingency\n",
    "print (f\"ДО\\n {b_before} \\nПОСЛЕ\\n {b_after}\")\n",
    "_, p_value = chisquare(b_before, b_after, ddof=len(b_after)-1)\n",
    "\n",
    "print(f\"p_value = {p_value}\")"
   ]
  },
  {
   "cell_type": "markdown",
   "metadata": {},
   "source": [
    "#### меняем bins"
   ]
  },
  {
   "cell_type": "code",
   "execution_count": 24,
   "metadata": {},
   "outputs": [
    {
     "name": "stdout",
     "output_type": "stream",
     "text": [
      "ДО\n",
      " [32.  8. 43. 19. 17.] \n",
      "ПОСЛЕ\n",
      " [35.  7. 55. 32. 21.]\n",
      "p_value = nan\n"
     ]
    }
   ],
   "source": [
    "print (f\"ДО\\n {b_before_2} \\nПОСЛЕ\\n {b_after_2}\")\n",
    "#stat, p_value_2, dof, _= chi2_contingency([b_before_2, b_after_2])\n",
    "_, p_value_2 = chisquare(b_before_2, b_after_2, ddof=len(b_after_2)-1)\n",
    "\n",
    "print(f\"p_value = {p_value_2}\")"
   ]
  },
  {
   "cell_type": "markdown",
   "metadata": {},
   "source": [
    "#### _...нужен иной подход ?_\n",
    "\n",
    "\n",
    "### Снова генерируем пропуски, но в этот раз удаляем "
   ]
  },
  {
   "cell_type": "code",
   "execution_count": 25,
   "metadata": {},
   "outputs": [
    {
     "data": {
      "text/html": [
       "<div>\n",
       "<style scoped>\n",
       "    .dataframe tbody tr th:only-of-type {\n",
       "        vertical-align: middle;\n",
       "    }\n",
       "\n",
       "    .dataframe tbody tr th {\n",
       "        vertical-align: top;\n",
       "    }\n",
       "\n",
       "    .dataframe thead th {\n",
       "        text-align: right;\n",
       "    }\n",
       "</style>\n",
       "<table border=\"1\" class=\"dataframe\">\n",
       "  <thead>\n",
       "    <tr style=\"text-align: right;\">\n",
       "      <th></th>\n",
       "      <th>sepal.length</th>\n",
       "      <th>sepal.width</th>\n",
       "      <th>petal.length</th>\n",
       "      <th>petal.width</th>\n",
       "      <th>variety</th>\n",
       "    </tr>\n",
       "  </thead>\n",
       "  <tbody>\n",
       "    <tr>\n",
       "      <th>140</th>\n",
       "      <td>6.7</td>\n",
       "      <td>3.1</td>\n",
       "      <td>5.6</td>\n",
       "      <td>NaN</td>\n",
       "      <td>Virginica</td>\n",
       "    </tr>\n",
       "    <tr>\n",
       "      <th>141</th>\n",
       "      <td>6.9</td>\n",
       "      <td>3.1</td>\n",
       "      <td>5.1</td>\n",
       "      <td>NaN</td>\n",
       "      <td>Virginica</td>\n",
       "    </tr>\n",
       "    <tr>\n",
       "      <th>142</th>\n",
       "      <td>5.8</td>\n",
       "      <td>2.7</td>\n",
       "      <td>5.1</td>\n",
       "      <td>NaN</td>\n",
       "      <td>Virginica</td>\n",
       "    </tr>\n",
       "    <tr>\n",
       "      <th>143</th>\n",
       "      <td>6.8</td>\n",
       "      <td>3.2</td>\n",
       "      <td>5.9</td>\n",
       "      <td>NaN</td>\n",
       "      <td>Virginica</td>\n",
       "    </tr>\n",
       "    <tr>\n",
       "      <th>144</th>\n",
       "      <td>6.7</td>\n",
       "      <td>3.3</td>\n",
       "      <td>5.7</td>\n",
       "      <td>NaN</td>\n",
       "      <td>Virginica</td>\n",
       "    </tr>\n",
       "    <tr>\n",
       "      <th>145</th>\n",
       "      <td>6.7</td>\n",
       "      <td>3.0</td>\n",
       "      <td>5.2</td>\n",
       "      <td>NaN</td>\n",
       "      <td>Virginica</td>\n",
       "    </tr>\n",
       "    <tr>\n",
       "      <th>146</th>\n",
       "      <td>6.3</td>\n",
       "      <td>2.5</td>\n",
       "      <td>5.0</td>\n",
       "      <td>NaN</td>\n",
       "      <td>Virginica</td>\n",
       "    </tr>\n",
       "    <tr>\n",
       "      <th>147</th>\n",
       "      <td>6.5</td>\n",
       "      <td>3.0</td>\n",
       "      <td>5.2</td>\n",
       "      <td>1.173973</td>\n",
       "      <td>Virginica</td>\n",
       "    </tr>\n",
       "    <tr>\n",
       "      <th>148</th>\n",
       "      <td>6.2</td>\n",
       "      <td>3.4</td>\n",
       "      <td>5.4</td>\n",
       "      <td>1.173973</td>\n",
       "      <td>Virginica</td>\n",
       "    </tr>\n",
       "    <tr>\n",
       "      <th>149</th>\n",
       "      <td>5.9</td>\n",
       "      <td>3.0</td>\n",
       "      <td>5.1</td>\n",
       "      <td>1.800000</td>\n",
       "      <td>Virginica</td>\n",
       "    </tr>\n",
       "  </tbody>\n",
       "</table>\n",
       "</div>"
      ],
      "text/plain": [
       "     sepal.length  sepal.width  petal.length  petal.width    variety\n",
       "140           6.7          3.1           5.6          NaN  Virginica\n",
       "141           6.9          3.1           5.1          NaN  Virginica\n",
       "142           5.8          2.7           5.1          NaN  Virginica\n",
       "143           6.8          3.2           5.9          NaN  Virginica\n",
       "144           6.7          3.3           5.7          NaN  Virginica\n",
       "145           6.7          3.0           5.2          NaN  Virginica\n",
       "146           6.3          2.5           5.0          NaN  Virginica\n",
       "147           6.5          3.0           5.2     1.173973  Virginica\n",
       "148           6.2          3.4           5.4     1.173973  Virginica\n",
       "149           5.9          3.0           5.1     1.800000  Virginica"
      ]
     },
     "execution_count": 25,
     "metadata": {},
     "output_type": "execute_result"
    }
   ],
   "source": [
    "data[\"petal.width\"].iloc[125:147] = None\n",
    "data.tail(10)"
   ]
  },
  {
   "cell_type": "code",
   "execution_count": 26,
   "metadata": {},
   "outputs": [
    {
     "data": {
      "text/html": [
       "<div>\n",
       "<style scoped>\n",
       "    .dataframe tbody tr th:only-of-type {\n",
       "        vertical-align: middle;\n",
       "    }\n",
       "\n",
       "    .dataframe tbody tr th {\n",
       "        vertical-align: top;\n",
       "    }\n",
       "\n",
       "    .dataframe thead th {\n",
       "        text-align: right;\n",
       "    }\n",
       "</style>\n",
       "<table border=\"1\" class=\"dataframe\">\n",
       "  <thead>\n",
       "    <tr style=\"text-align: right;\">\n",
       "      <th></th>\n",
       "      <th>sepal.length</th>\n",
       "      <th>sepal.width</th>\n",
       "      <th>petal.length</th>\n",
       "      <th>petal.width</th>\n",
       "      <th>variety</th>\n",
       "    </tr>\n",
       "  </thead>\n",
       "  <tbody>\n",
       "    <tr>\n",
       "      <th>118</th>\n",
       "      <td>7.7</td>\n",
       "      <td>2.6</td>\n",
       "      <td>6.9</td>\n",
       "      <td>2.300000</td>\n",
       "      <td>Virginica</td>\n",
       "    </tr>\n",
       "    <tr>\n",
       "      <th>119</th>\n",
       "      <td>6.0</td>\n",
       "      <td>2.2</td>\n",
       "      <td>5.0</td>\n",
       "      <td>1.500000</td>\n",
       "      <td>Virginica</td>\n",
       "    </tr>\n",
       "    <tr>\n",
       "      <th>120</th>\n",
       "      <td>6.9</td>\n",
       "      <td>3.2</td>\n",
       "      <td>5.7</td>\n",
       "      <td>2.300000</td>\n",
       "      <td>Virginica</td>\n",
       "    </tr>\n",
       "    <tr>\n",
       "      <th>121</th>\n",
       "      <td>5.6</td>\n",
       "      <td>2.8</td>\n",
       "      <td>4.9</td>\n",
       "      <td>2.000000</td>\n",
       "      <td>Virginica</td>\n",
       "    </tr>\n",
       "    <tr>\n",
       "      <th>122</th>\n",
       "      <td>7.7</td>\n",
       "      <td>2.8</td>\n",
       "      <td>6.7</td>\n",
       "      <td>2.000000</td>\n",
       "      <td>Virginica</td>\n",
       "    </tr>\n",
       "    <tr>\n",
       "      <th>123</th>\n",
       "      <td>6.3</td>\n",
       "      <td>2.7</td>\n",
       "      <td>4.9</td>\n",
       "      <td>1.800000</td>\n",
       "      <td>Virginica</td>\n",
       "    </tr>\n",
       "    <tr>\n",
       "      <th>124</th>\n",
       "      <td>6.7</td>\n",
       "      <td>3.3</td>\n",
       "      <td>5.7</td>\n",
       "      <td>2.100000</td>\n",
       "      <td>Virginica</td>\n",
       "    </tr>\n",
       "    <tr>\n",
       "      <th>147</th>\n",
       "      <td>6.5</td>\n",
       "      <td>3.0</td>\n",
       "      <td>5.2</td>\n",
       "      <td>1.173973</td>\n",
       "      <td>Virginica</td>\n",
       "    </tr>\n",
       "    <tr>\n",
       "      <th>148</th>\n",
       "      <td>6.2</td>\n",
       "      <td>3.4</td>\n",
       "      <td>5.4</td>\n",
       "      <td>1.173973</td>\n",
       "      <td>Virginica</td>\n",
       "    </tr>\n",
       "    <tr>\n",
       "      <th>149</th>\n",
       "      <td>5.9</td>\n",
       "      <td>3.0</td>\n",
       "      <td>5.1</td>\n",
       "      <td>1.800000</td>\n",
       "      <td>Virginica</td>\n",
       "    </tr>\n",
       "  </tbody>\n",
       "</table>\n",
       "</div>"
      ],
      "text/plain": [
       "     sepal.length  sepal.width  petal.length  petal.width    variety\n",
       "118           7.7          2.6           6.9     2.300000  Virginica\n",
       "119           6.0          2.2           5.0     1.500000  Virginica\n",
       "120           6.9          3.2           5.7     2.300000  Virginica\n",
       "121           5.6          2.8           4.9     2.000000  Virginica\n",
       "122           7.7          2.8           6.7     2.000000  Virginica\n",
       "123           6.3          2.7           4.9     1.800000  Virginica\n",
       "124           6.7          3.3           5.7     2.100000  Virginica\n",
       "147           6.5          3.0           5.2     1.173973  Virginica\n",
       "148           6.2          3.4           5.4     1.173973  Virginica\n",
       "149           5.9          3.0           5.1     1.800000  Virginica"
      ]
     },
     "execution_count": 26,
     "metadata": {},
     "output_type": "execute_result"
    }
   ],
   "source": [
    "data.dropna(inplace=True)\n",
    "data.tail(10)"
   ]
  },
  {
   "cell_type": "markdown",
   "metadata": {},
   "source": [
    "### \"Пропали\" все строки с пропусками\n",
    "\n",
    "## Заполняем смешанные пропуски\n",
    "#### ...но сначала их создадим ))"
   ]
  },
  {
   "cell_type": "code",
   "execution_count": 27,
   "metadata": {},
   "outputs": [
    {
     "data": {
      "text/html": [
       "<div>\n",
       "<style scoped>\n",
       "    .dataframe tbody tr th:only-of-type {\n",
       "        vertical-align: middle;\n",
       "    }\n",
       "\n",
       "    .dataframe tbody tr th {\n",
       "        vertical-align: top;\n",
       "    }\n",
       "\n",
       "    .dataframe thead th {\n",
       "        text-align: right;\n",
       "    }\n",
       "</style>\n",
       "<table border=\"1\" class=\"dataframe\">\n",
       "  <thead>\n",
       "    <tr style=\"text-align: right;\">\n",
       "      <th></th>\n",
       "      <th>sepal.length</th>\n",
       "      <th>sepal.width</th>\n",
       "      <th>petal.length</th>\n",
       "      <th>petal.width</th>\n",
       "      <th>variety</th>\n",
       "    </tr>\n",
       "  </thead>\n",
       "  <tbody>\n",
       "    <tr>\n",
       "      <th>0</th>\n",
       "      <td>5.1</td>\n",
       "      <td>3.5</td>\n",
       "      <td>1.827541</td>\n",
       "      <td>0.2</td>\n",
       "      <td>Setosa</td>\n",
       "    </tr>\n",
       "    <tr>\n",
       "      <th>1</th>\n",
       "      <td>4.9</td>\n",
       "      <td>3.0</td>\n",
       "      <td>3.838343</td>\n",
       "      <td>0.2</td>\n",
       "      <td>Setosa</td>\n",
       "    </tr>\n",
       "    <tr>\n",
       "      <th>2</th>\n",
       "      <td>4.7</td>\n",
       "      <td>3.2</td>\n",
       "      <td>3.693198</td>\n",
       "      <td>0.2</td>\n",
       "      <td>Setosa</td>\n",
       "    </tr>\n",
       "    <tr>\n",
       "      <th>3</th>\n",
       "      <td>4.6</td>\n",
       "      <td>3.1</td>\n",
       "      <td>6.590381</td>\n",
       "      <td>0.2</td>\n",
       "      <td>Setosa</td>\n",
       "    </tr>\n",
       "    <tr>\n",
       "      <th>4</th>\n",
       "      <td>5.0</td>\n",
       "      <td>3.6</td>\n",
       "      <td>4.494987</td>\n",
       "      <td>0.2</td>\n",
       "      <td>Setosa</td>\n",
       "    </tr>\n",
       "  </tbody>\n",
       "</table>\n",
       "</div>"
      ],
      "text/plain": [
       "   sepal.length  sepal.width  petal.length  petal.width variety\n",
       "0           5.1          3.5      1.827541          0.2  Setosa\n",
       "1           4.9          3.0      3.838343          0.2  Setosa\n",
       "2           4.7          3.2      3.693198          0.2  Setosa\n",
       "3           4.6          3.1      6.590381          0.2  Setosa\n",
       "4           5.0          3.6      4.494987          0.2  Setosa"
      ]
     },
     "metadata": {},
     "output_type": "display_data"
    },
    {
     "data": {
      "text/html": [
       "<div>\n",
       "<style scoped>\n",
       "    .dataframe tbody tr th:only-of-type {\n",
       "        vertical-align: middle;\n",
       "    }\n",
       "\n",
       "    .dataframe tbody tr th {\n",
       "        vertical-align: top;\n",
       "    }\n",
       "\n",
       "    .dataframe thead th {\n",
       "        text-align: right;\n",
       "    }\n",
       "</style>\n",
       "<table border=\"1\" class=\"dataframe\">\n",
       "  <thead>\n",
       "    <tr style=\"text-align: right;\">\n",
       "      <th></th>\n",
       "      <th>sepal.length</th>\n",
       "      <th>sepal.width</th>\n",
       "      <th>petal.length</th>\n",
       "      <th>petal.width</th>\n",
       "      <th>variety</th>\n",
       "    </tr>\n",
       "  </thead>\n",
       "  <tbody>\n",
       "    <tr>\n",
       "      <th>0</th>\n",
       "      <td>NaN</td>\n",
       "      <td>NaN</td>\n",
       "      <td>NaN</td>\n",
       "      <td>NaN</td>\n",
       "      <td>None</td>\n",
       "    </tr>\n",
       "    <tr>\n",
       "      <th>1</th>\n",
       "      <td>NaN</td>\n",
       "      <td>NaN</td>\n",
       "      <td>NaN</td>\n",
       "      <td>NaN</td>\n",
       "      <td>None</td>\n",
       "    </tr>\n",
       "    <tr>\n",
       "      <th>2</th>\n",
       "      <td>NaN</td>\n",
       "      <td>NaN</td>\n",
       "      <td>NaN</td>\n",
       "      <td>NaN</td>\n",
       "      <td>None</td>\n",
       "    </tr>\n",
       "    <tr>\n",
       "      <th>3</th>\n",
       "      <td>4.6</td>\n",
       "      <td>3.1</td>\n",
       "      <td>6.590381</td>\n",
       "      <td>0.2</td>\n",
       "      <td>Setosa</td>\n",
       "    </tr>\n",
       "    <tr>\n",
       "      <th>4</th>\n",
       "      <td>5.0</td>\n",
       "      <td>3.6</td>\n",
       "      <td>4.494987</td>\n",
       "      <td>0.2</td>\n",
       "      <td>Setosa</td>\n",
       "    </tr>\n",
       "  </tbody>\n",
       "</table>\n",
       "</div>"
      ],
      "text/plain": [
       "   sepal.length  sepal.width  petal.length  petal.width variety\n",
       "0           NaN          NaN           NaN          NaN    None\n",
       "1           NaN          NaN           NaN          NaN    None\n",
       "2           NaN          NaN           NaN          NaN    None\n",
       "3           4.6          3.1      6.590381          0.2  Setosa\n",
       "4           5.0          3.6      4.494987          0.2  Setosa"
      ]
     },
     "metadata": {},
     "output_type": "display_data"
    }
   ],
   "source": [
    "display(data.head())\n",
    "data.iloc[0:3] = None\n",
    "display(data.head())"
   ]
  },
  {
   "cell_type": "code",
   "execution_count": 28,
   "metadata": {},
   "outputs": [
    {
     "data": {
      "text/html": [
       "<div>\n",
       "<style scoped>\n",
       "    .dataframe tbody tr th:only-of-type {\n",
       "        vertical-align: middle;\n",
       "    }\n",
       "\n",
       "    .dataframe tbody tr th {\n",
       "        vertical-align: top;\n",
       "    }\n",
       "\n",
       "    .dataframe thead th {\n",
       "        text-align: right;\n",
       "    }\n",
       "</style>\n",
       "<table border=\"1\" class=\"dataframe\">\n",
       "  <thead>\n",
       "    <tr style=\"text-align: right;\">\n",
       "      <th></th>\n",
       "      <th>sepal.length</th>\n",
       "      <th>sepal.width</th>\n",
       "      <th>petal.length</th>\n",
       "      <th>petal.width</th>\n",
       "      <th>variety</th>\n",
       "    </tr>\n",
       "  </thead>\n",
       "  <tbody>\n",
       "    <tr>\n",
       "      <th>0</th>\n",
       "      <td>5.012766</td>\n",
       "      <td>3.440426</td>\n",
       "      <td>4.642001</td>\n",
       "      <td>0.3</td>\n",
       "      <td>Setosa</td>\n",
       "    </tr>\n",
       "    <tr>\n",
       "      <th>1</th>\n",
       "      <td>5.012766</td>\n",
       "      <td>3.440426</td>\n",
       "      <td>4.642001</td>\n",
       "      <td>0.3</td>\n",
       "      <td>Setosa</td>\n",
       "    </tr>\n",
       "    <tr>\n",
       "      <th>2</th>\n",
       "      <td>5.012766</td>\n",
       "      <td>3.440426</td>\n",
       "      <td>4.642001</td>\n",
       "      <td>0.3</td>\n",
       "      <td>Setosa</td>\n",
       "    </tr>\n",
       "    <tr>\n",
       "      <th>3</th>\n",
       "      <td>4.600000</td>\n",
       "      <td>3.100000</td>\n",
       "      <td>6.590381</td>\n",
       "      <td>0.2</td>\n",
       "      <td>Setosa</td>\n",
       "    </tr>\n",
       "    <tr>\n",
       "      <th>4</th>\n",
       "      <td>5.000000</td>\n",
       "      <td>3.600000</td>\n",
       "      <td>4.494987</td>\n",
       "      <td>0.2</td>\n",
       "      <td>Setosa</td>\n",
       "    </tr>\n",
       "  </tbody>\n",
       "</table>\n",
       "</div>"
      ],
      "text/plain": [
       "   sepal.length  sepal.width  petal.length  petal.width variety\n",
       "0      5.012766     3.440426      4.642001          0.3  Setosa\n",
       "1      5.012766     3.440426      4.642001          0.3  Setosa\n",
       "2      5.012766     3.440426      4.642001          0.3  Setosa\n",
       "3      4.600000     3.100000      6.590381          0.2  Setosa\n",
       "4      5.000000     3.600000      4.494987          0.2  Setosa"
      ]
     },
     "metadata": {},
     "output_type": "display_data"
    }
   ],
   "source": [
    "values = {\"sepal.length\": data[\"sepal.length\"][data[\"variety\"]==\"Setosa\"].mean(),\n",
    "          \"sepal.width\": data[\"sepal.width\"][data[\"variety\"]==\"Setosa\"].mean(), \n",
    "          \"petal.length\": data[\"petal.length\"][data[\"variety\"]==\"Setosa\"].median(), \n",
    "          \"petal.width\": data[\"petal.width\"][data[\"variety\"]==\"Setosa\"].median(),\n",
    "          \"variety\": \"Setosa\"}\n",
    "data.fillna(value=values, inplace=True)\n",
    "display(data.head())"
   ]
  },
  {
   "cell_type": "markdown",
   "metadata": {},
   "source": [
    "## Extra case. Infinity"
   ]
  },
  {
   "cell_type": "code",
   "execution_count": 29,
   "metadata": {},
   "outputs": [
    {
     "data": {
      "text/html": [
       "<div>\n",
       "<style scoped>\n",
       "    .dataframe tbody tr th:only-of-type {\n",
       "        vertical-align: middle;\n",
       "    }\n",
       "\n",
       "    .dataframe tbody tr th {\n",
       "        vertical-align: top;\n",
       "    }\n",
       "\n",
       "    .dataframe thead th {\n",
       "        text-align: right;\n",
       "    }\n",
       "</style>\n",
       "<table border=\"1\" class=\"dataframe\">\n",
       "  <thead>\n",
       "    <tr style=\"text-align: right;\">\n",
       "      <th></th>\n",
       "      <th>sepal.length</th>\n",
       "      <th>sepal.width</th>\n",
       "      <th>petal.length</th>\n",
       "      <th>petal.width</th>\n",
       "      <th>variety</th>\n",
       "    </tr>\n",
       "  </thead>\n",
       "  <tbody>\n",
       "    <tr>\n",
       "      <th>15</th>\n",
       "      <td>5.7</td>\n",
       "      <td>4.4</td>\n",
       "      <td>4.642001</td>\n",
       "      <td>inf</td>\n",
       "      <td>Setosa</td>\n",
       "    </tr>\n",
       "    <tr>\n",
       "      <th>16</th>\n",
       "      <td>5.4</td>\n",
       "      <td>3.9</td>\n",
       "      <td>1.065323</td>\n",
       "      <td>-inf</td>\n",
       "      <td>Setosa</td>\n",
       "    </tr>\n",
       "    <tr>\n",
       "      <th>17</th>\n",
       "      <td>5.1</td>\n",
       "      <td>3.5</td>\n",
       "      <td>4.751790</td>\n",
       "      <td>inf</td>\n",
       "      <td>Setosa</td>\n",
       "    </tr>\n",
       "    <tr>\n",
       "      <th>18</th>\n",
       "      <td>5.7</td>\n",
       "      <td>3.8</td>\n",
       "      <td>3.878122</td>\n",
       "      <td>-inf</td>\n",
       "      <td>Setosa</td>\n",
       "    </tr>\n",
       "  </tbody>\n",
       "</table>\n",
       "</div>"
      ],
      "text/plain": [
       "    sepal.length  sepal.width  petal.length  petal.width variety\n",
       "15           5.7          4.4      4.642001          inf  Setosa\n",
       "16           5.4          3.9      1.065323         -inf  Setosa\n",
       "17           5.1          3.5      4.751790          inf  Setosa\n",
       "18           5.7          3.8      3.878122         -inf  Setosa"
      ]
     },
     "execution_count": 29,
     "metadata": {},
     "output_type": "execute_result"
    }
   ],
   "source": [
    "data[\"petal.width\"].iloc[15:19] = np.array((np.inf, -np.inf, np.inf, np.log(0)))\n",
    "data.iloc[15:19]"
   ]
  },
  {
   "cell_type": "markdown",
   "metadata": {},
   "source": [
    "### Гистограмма не строится при наличии inf"
   ]
  },
  {
   "cell_type": "code",
   "execution_count": 30,
   "metadata": {},
   "outputs": [
    {
     "data": {
      "text/plain": [
       "count    128.000000\n",
       "mean            NaN\n",
       "std             NaN\n",
       "min            -inf\n",
       "25%        0.475000\n",
       "50%        1.300000\n",
       "75%        1.656413\n",
       "max             inf\n",
       "Name: petal.width, dtype: float64"
      ]
     },
     "execution_count": 30,
     "metadata": {},
     "output_type": "execute_result"
    }
   ],
   "source": [
    "data[\"petal.width\"].describe()"
   ]
  },
  {
   "cell_type": "code",
   "execution_count": 31,
   "metadata": {},
   "outputs": [
    {
     "ename": "ValueError",
     "evalue": "autodetected range of [-inf, inf] is not finite",
     "output_type": "error",
     "traceback": [
      "\u001b[0;31m---------------------------------------------------------------------------\u001b[0m",
      "\u001b[0;31mValueError\u001b[0m                                Traceback (most recent call last)",
      "\u001b[0;32m/var/folders/th/_rcgvl4j409b2h03kdtwhbms_1b1jz/T/ipykernel_63970/1759041747.py\u001b[0m in \u001b[0;36m<module>\u001b[0;34m\u001b[0m\n\u001b[0;32m----> 1\u001b[0;31m data[\"petal.width\"].plot.hist( figsize=(10,5), \n\u001b[0m\u001b[1;32m      2\u001b[0m                 color='#21BA72', alpha=0.5, bins=20 );\n\u001b[1;32m      3\u001b[0m \u001b[0;31m# Ой! Что-то пойшло не так!\u001b[0m\u001b[0;34m\u001b[0m\u001b[0;34m\u001b[0m\u001b[0m\n",
      "\u001b[0;32m~/opt/anaconda3/lib/python3.9/site-packages/pandas/plotting/_core.py\u001b[0m in \u001b[0;36mhist\u001b[0;34m(self, by, bins, **kwargs)\u001b[0m\n\u001b[1;32m   1344\u001b[0m             \u001b[0;34m>>\u001b[0m\u001b[0;34m>\u001b[0m \u001b[0max\u001b[0m \u001b[0;34m=\u001b[0m \u001b[0mdf\u001b[0m\u001b[0;34m.\u001b[0m\u001b[0mplot\u001b[0m\u001b[0;34m.\u001b[0m\u001b[0mhist\u001b[0m\u001b[0;34m(\u001b[0m\u001b[0mcolumn\u001b[0m\u001b[0;34m=\u001b[0m\u001b[0;34m[\u001b[0m\u001b[0;34m\"age\"\u001b[0m\u001b[0;34m]\u001b[0m\u001b[0;34m,\u001b[0m \u001b[0mby\u001b[0m\u001b[0;34m=\u001b[0m\u001b[0;34m\"gender\"\u001b[0m\u001b[0;34m,\u001b[0m \u001b[0mfigsize\u001b[0m\u001b[0;34m=\u001b[0m\u001b[0;34m(\u001b[0m\u001b[0;36m10\u001b[0m\u001b[0;34m,\u001b[0m \u001b[0;36m8\u001b[0m\u001b[0;34m)\u001b[0m\u001b[0;34m)\u001b[0m\u001b[0;34m\u001b[0m\u001b[0;34m\u001b[0m\u001b[0m\n\u001b[1;32m   1345\u001b[0m         \"\"\"\n\u001b[0;32m-> 1346\u001b[0;31m         \u001b[0;32mreturn\u001b[0m \u001b[0mself\u001b[0m\u001b[0;34m(\u001b[0m\u001b[0mkind\u001b[0m\u001b[0;34m=\u001b[0m\u001b[0;34m\"hist\"\u001b[0m\u001b[0;34m,\u001b[0m \u001b[0mby\u001b[0m\u001b[0;34m=\u001b[0m\u001b[0mby\u001b[0m\u001b[0;34m,\u001b[0m \u001b[0mbins\u001b[0m\u001b[0;34m=\u001b[0m\u001b[0mbins\u001b[0m\u001b[0;34m,\u001b[0m \u001b[0;34m**\u001b[0m\u001b[0mkwargs\u001b[0m\u001b[0;34m)\u001b[0m\u001b[0;34m\u001b[0m\u001b[0;34m\u001b[0m\u001b[0m\n\u001b[0m\u001b[1;32m   1347\u001b[0m \u001b[0;34m\u001b[0m\u001b[0m\n\u001b[1;32m   1348\u001b[0m     \u001b[0;32mdef\u001b[0m \u001b[0mkde\u001b[0m\u001b[0;34m(\u001b[0m\u001b[0mself\u001b[0m\u001b[0;34m,\u001b[0m \u001b[0mbw_method\u001b[0m\u001b[0;34m=\u001b[0m\u001b[0;32mNone\u001b[0m\u001b[0;34m,\u001b[0m \u001b[0mind\u001b[0m\u001b[0;34m=\u001b[0m\u001b[0;32mNone\u001b[0m\u001b[0;34m,\u001b[0m \u001b[0;34m**\u001b[0m\u001b[0mkwargs\u001b[0m\u001b[0;34m)\u001b[0m\u001b[0;34m:\u001b[0m\u001b[0;34m\u001b[0m\u001b[0;34m\u001b[0m\u001b[0m\n",
      "\u001b[0;32m~/opt/anaconda3/lib/python3.9/site-packages/pandas/plotting/_core.py\u001b[0m in \u001b[0;36m__call__\u001b[0;34m(self, *args, **kwargs)\u001b[0m\n\u001b[1;32m    970\u001b[0m                     \u001b[0mdata\u001b[0m\u001b[0;34m.\u001b[0m\u001b[0mcolumns\u001b[0m \u001b[0;34m=\u001b[0m \u001b[0mlabel_name\u001b[0m\u001b[0;34m\u001b[0m\u001b[0;34m\u001b[0m\u001b[0m\n\u001b[1;32m    971\u001b[0m \u001b[0;34m\u001b[0m\u001b[0m\n\u001b[0;32m--> 972\u001b[0;31m         \u001b[0;32mreturn\u001b[0m \u001b[0mplot_backend\u001b[0m\u001b[0;34m.\u001b[0m\u001b[0mplot\u001b[0m\u001b[0;34m(\u001b[0m\u001b[0mdata\u001b[0m\u001b[0;34m,\u001b[0m \u001b[0mkind\u001b[0m\u001b[0;34m=\u001b[0m\u001b[0mkind\u001b[0m\u001b[0;34m,\u001b[0m \u001b[0;34m**\u001b[0m\u001b[0mkwargs\u001b[0m\u001b[0;34m)\u001b[0m\u001b[0;34m\u001b[0m\u001b[0;34m\u001b[0m\u001b[0m\n\u001b[0m\u001b[1;32m    973\u001b[0m \u001b[0;34m\u001b[0m\u001b[0m\n\u001b[1;32m    974\u001b[0m     \u001b[0m__call__\u001b[0m\u001b[0;34m.\u001b[0m\u001b[0m__doc__\u001b[0m \u001b[0;34m=\u001b[0m \u001b[0m__doc__\u001b[0m\u001b[0;34m\u001b[0m\u001b[0;34m\u001b[0m\u001b[0m\n",
      "\u001b[0;32m~/opt/anaconda3/lib/python3.9/site-packages/pandas/plotting/_matplotlib/__init__.py\u001b[0m in \u001b[0;36mplot\u001b[0;34m(data, kind, **kwargs)\u001b[0m\n\u001b[1;32m     69\u001b[0m             \u001b[0mkwargs\u001b[0m\u001b[0;34m[\u001b[0m\u001b[0;34m\"ax\"\u001b[0m\u001b[0;34m]\u001b[0m \u001b[0;34m=\u001b[0m \u001b[0mgetattr\u001b[0m\u001b[0;34m(\u001b[0m\u001b[0max\u001b[0m\u001b[0;34m,\u001b[0m \u001b[0;34m\"left_ax\"\u001b[0m\u001b[0;34m,\u001b[0m \u001b[0max\u001b[0m\u001b[0;34m)\u001b[0m\u001b[0;34m\u001b[0m\u001b[0;34m\u001b[0m\u001b[0m\n\u001b[1;32m     70\u001b[0m     \u001b[0mplot_obj\u001b[0m \u001b[0;34m=\u001b[0m \u001b[0mPLOT_CLASSES\u001b[0m\u001b[0;34m[\u001b[0m\u001b[0mkind\u001b[0m\u001b[0;34m]\u001b[0m\u001b[0;34m(\u001b[0m\u001b[0mdata\u001b[0m\u001b[0;34m,\u001b[0m \u001b[0;34m**\u001b[0m\u001b[0mkwargs\u001b[0m\u001b[0;34m)\u001b[0m\u001b[0;34m\u001b[0m\u001b[0;34m\u001b[0m\u001b[0m\n\u001b[0;32m---> 71\u001b[0;31m     \u001b[0mplot_obj\u001b[0m\u001b[0;34m.\u001b[0m\u001b[0mgenerate\u001b[0m\u001b[0;34m(\u001b[0m\u001b[0;34m)\u001b[0m\u001b[0;34m\u001b[0m\u001b[0;34m\u001b[0m\u001b[0m\n\u001b[0m\u001b[1;32m     72\u001b[0m     \u001b[0mplot_obj\u001b[0m\u001b[0;34m.\u001b[0m\u001b[0mdraw\u001b[0m\u001b[0;34m(\u001b[0m\u001b[0;34m)\u001b[0m\u001b[0;34m\u001b[0m\u001b[0;34m\u001b[0m\u001b[0m\n\u001b[1;32m     73\u001b[0m     \u001b[0;32mreturn\u001b[0m \u001b[0mplot_obj\u001b[0m\u001b[0;34m.\u001b[0m\u001b[0mresult\u001b[0m\u001b[0;34m\u001b[0m\u001b[0;34m\u001b[0m\u001b[0m\n",
      "\u001b[0;32m~/opt/anaconda3/lib/python3.9/site-packages/pandas/plotting/_matplotlib/core.py\u001b[0m in \u001b[0;36mgenerate\u001b[0;34m(self)\u001b[0m\n\u001b[1;32m    324\u001b[0m \u001b[0;34m\u001b[0m\u001b[0m\n\u001b[1;32m    325\u001b[0m     \u001b[0;32mdef\u001b[0m \u001b[0mgenerate\u001b[0m\u001b[0;34m(\u001b[0m\u001b[0mself\u001b[0m\u001b[0;34m)\u001b[0m\u001b[0;34m:\u001b[0m\u001b[0;34m\u001b[0m\u001b[0;34m\u001b[0m\u001b[0m\n\u001b[0;32m--> 326\u001b[0;31m         \u001b[0mself\u001b[0m\u001b[0;34m.\u001b[0m\u001b[0m_args_adjust\u001b[0m\u001b[0;34m(\u001b[0m\u001b[0;34m)\u001b[0m\u001b[0;34m\u001b[0m\u001b[0;34m\u001b[0m\u001b[0m\n\u001b[0m\u001b[1;32m    327\u001b[0m         \u001b[0mself\u001b[0m\u001b[0;34m.\u001b[0m\u001b[0m_compute_plot_data\u001b[0m\u001b[0;34m(\u001b[0m\u001b[0;34m)\u001b[0m\u001b[0;34m\u001b[0m\u001b[0;34m\u001b[0m\u001b[0m\n\u001b[1;32m    328\u001b[0m         \u001b[0mself\u001b[0m\u001b[0;34m.\u001b[0m\u001b[0m_setup_subplots\u001b[0m\u001b[0;34m(\u001b[0m\u001b[0;34m)\u001b[0m\u001b[0;34m\u001b[0m\u001b[0;34m\u001b[0m\u001b[0m\n",
      "\u001b[0;32m~/opt/anaconda3/lib/python3.9/site-packages/pandas/plotting/_matplotlib/hist.py\u001b[0m in \u001b[0;36m_args_adjust\u001b[0;34m(self)\u001b[0m\n\u001b[1;32m     58\u001b[0m                 \u001b[0mself\u001b[0m\u001b[0;34m.\u001b[0m\u001b[0mbins\u001b[0m \u001b[0;34m=\u001b[0m \u001b[0;34m[\u001b[0m\u001b[0mself\u001b[0m\u001b[0;34m.\u001b[0m\u001b[0m_calculate_bins\u001b[0m\u001b[0;34m(\u001b[0m\u001b[0mgroup\u001b[0m\u001b[0;34m)\u001b[0m \u001b[0;32mfor\u001b[0m \u001b[0mkey\u001b[0m\u001b[0;34m,\u001b[0m \u001b[0mgroup\u001b[0m \u001b[0;32min\u001b[0m \u001b[0mgrouped\u001b[0m\u001b[0;34m]\u001b[0m\u001b[0;34m\u001b[0m\u001b[0;34m\u001b[0m\u001b[0m\n\u001b[1;32m     59\u001b[0m             \u001b[0;32melse\u001b[0m\u001b[0;34m:\u001b[0m\u001b[0;34m\u001b[0m\u001b[0;34m\u001b[0m\u001b[0m\n\u001b[0;32m---> 60\u001b[0;31m                 \u001b[0mself\u001b[0m\u001b[0;34m.\u001b[0m\u001b[0mbins\u001b[0m \u001b[0;34m=\u001b[0m \u001b[0mself\u001b[0m\u001b[0;34m.\u001b[0m\u001b[0m_calculate_bins\u001b[0m\u001b[0;34m(\u001b[0m\u001b[0mself\u001b[0m\u001b[0;34m.\u001b[0m\u001b[0mdata\u001b[0m\u001b[0;34m)\u001b[0m\u001b[0;34m\u001b[0m\u001b[0;34m\u001b[0m\u001b[0m\n\u001b[0m\u001b[1;32m     61\u001b[0m \u001b[0;34m\u001b[0m\u001b[0m\n\u001b[1;32m     62\u001b[0m         \u001b[0;32mif\u001b[0m \u001b[0mis_list_like\u001b[0m\u001b[0;34m(\u001b[0m\u001b[0mself\u001b[0m\u001b[0;34m.\u001b[0m\u001b[0mbottom\u001b[0m\u001b[0;34m)\u001b[0m\u001b[0;34m:\u001b[0m\u001b[0;34m\u001b[0m\u001b[0;34m\u001b[0m\u001b[0m\n",
      "\u001b[0;32m~/opt/anaconda3/lib/python3.9/site-packages/pandas/plotting/_matplotlib/hist.py\u001b[0m in \u001b[0;36m_calculate_bins\u001b[0;34m(self, data)\u001b[0m\n\u001b[1;32m     69\u001b[0m         \u001b[0mvalues\u001b[0m \u001b[0;34m=\u001b[0m \u001b[0mvalues\u001b[0m\u001b[0;34m[\u001b[0m\u001b[0;34m~\u001b[0m\u001b[0misna\u001b[0m\u001b[0;34m(\u001b[0m\u001b[0mvalues\u001b[0m\u001b[0;34m)\u001b[0m\u001b[0;34m]\u001b[0m\u001b[0;34m\u001b[0m\u001b[0;34m\u001b[0m\u001b[0m\n\u001b[1;32m     70\u001b[0m \u001b[0;34m\u001b[0m\u001b[0m\n\u001b[0;32m---> 71\u001b[0;31m         hist, bins = np.histogram(\n\u001b[0m\u001b[1;32m     72\u001b[0m             \u001b[0mvalues\u001b[0m\u001b[0;34m,\u001b[0m \u001b[0mbins\u001b[0m\u001b[0;34m=\u001b[0m\u001b[0mself\u001b[0m\u001b[0;34m.\u001b[0m\u001b[0mbins\u001b[0m\u001b[0;34m,\u001b[0m \u001b[0mrange\u001b[0m\u001b[0;34m=\u001b[0m\u001b[0mself\u001b[0m\u001b[0;34m.\u001b[0m\u001b[0mkwds\u001b[0m\u001b[0;34m.\u001b[0m\u001b[0mget\u001b[0m\u001b[0;34m(\u001b[0m\u001b[0;34m\"range\"\u001b[0m\u001b[0;34m,\u001b[0m \u001b[0;32mNone\u001b[0m\u001b[0;34m)\u001b[0m\u001b[0;34m\u001b[0m\u001b[0;34m\u001b[0m\u001b[0m\n\u001b[1;32m     73\u001b[0m         )\n",
      "\u001b[0;32m<__array_function__ internals>\u001b[0m in \u001b[0;36mhistogram\u001b[0;34m(*args, **kwargs)\u001b[0m\n",
      "\u001b[0;32m~/opt/anaconda3/lib/python3.9/site-packages/numpy/lib/histograms.py\u001b[0m in \u001b[0;36mhistogram\u001b[0;34m(a, bins, range, normed, weights, density)\u001b[0m\n\u001b[1;32m    791\u001b[0m     \u001b[0ma\u001b[0m\u001b[0;34m,\u001b[0m \u001b[0mweights\u001b[0m \u001b[0;34m=\u001b[0m \u001b[0m_ravel_and_check_weights\u001b[0m\u001b[0;34m(\u001b[0m\u001b[0ma\u001b[0m\u001b[0;34m,\u001b[0m \u001b[0mweights\u001b[0m\u001b[0;34m)\u001b[0m\u001b[0;34m\u001b[0m\u001b[0;34m\u001b[0m\u001b[0m\n\u001b[1;32m    792\u001b[0m \u001b[0;34m\u001b[0m\u001b[0m\n\u001b[0;32m--> 793\u001b[0;31m     \u001b[0mbin_edges\u001b[0m\u001b[0;34m,\u001b[0m \u001b[0muniform_bins\u001b[0m \u001b[0;34m=\u001b[0m \u001b[0m_get_bin_edges\u001b[0m\u001b[0;34m(\u001b[0m\u001b[0ma\u001b[0m\u001b[0;34m,\u001b[0m \u001b[0mbins\u001b[0m\u001b[0;34m,\u001b[0m \u001b[0mrange\u001b[0m\u001b[0;34m,\u001b[0m \u001b[0mweights\u001b[0m\u001b[0;34m)\u001b[0m\u001b[0;34m\u001b[0m\u001b[0;34m\u001b[0m\u001b[0m\n\u001b[0m\u001b[1;32m    794\u001b[0m \u001b[0;34m\u001b[0m\u001b[0m\n\u001b[1;32m    795\u001b[0m     \u001b[0;31m# Histogram is an integer or a float array depending on the weights.\u001b[0m\u001b[0;34m\u001b[0m\u001b[0;34m\u001b[0m\u001b[0m\n",
      "\u001b[0;32m~/opt/anaconda3/lib/python3.9/site-packages/numpy/lib/histograms.py\u001b[0m in \u001b[0;36m_get_bin_edges\u001b[0;34m(a, bins, range, weights)\u001b[0m\n\u001b[1;32m    424\u001b[0m             \u001b[0;32mraise\u001b[0m \u001b[0mValueError\u001b[0m\u001b[0;34m(\u001b[0m\u001b[0;34m'`bins` must be positive, when an integer'\u001b[0m\u001b[0;34m)\u001b[0m\u001b[0;34m\u001b[0m\u001b[0;34m\u001b[0m\u001b[0m\n\u001b[1;32m    425\u001b[0m \u001b[0;34m\u001b[0m\u001b[0m\n\u001b[0;32m--> 426\u001b[0;31m         \u001b[0mfirst_edge\u001b[0m\u001b[0;34m,\u001b[0m \u001b[0mlast_edge\u001b[0m \u001b[0;34m=\u001b[0m \u001b[0m_get_outer_edges\u001b[0m\u001b[0;34m(\u001b[0m\u001b[0ma\u001b[0m\u001b[0;34m,\u001b[0m \u001b[0mrange\u001b[0m\u001b[0;34m)\u001b[0m\u001b[0;34m\u001b[0m\u001b[0;34m\u001b[0m\u001b[0m\n\u001b[0m\u001b[1;32m    427\u001b[0m \u001b[0;34m\u001b[0m\u001b[0m\n\u001b[1;32m    428\u001b[0m     \u001b[0;32melif\u001b[0m \u001b[0mnp\u001b[0m\u001b[0;34m.\u001b[0m\u001b[0mndim\u001b[0m\u001b[0;34m(\u001b[0m\u001b[0mbins\u001b[0m\u001b[0;34m)\u001b[0m \u001b[0;34m==\u001b[0m \u001b[0;36m1\u001b[0m\u001b[0;34m:\u001b[0m\u001b[0;34m\u001b[0m\u001b[0;34m\u001b[0m\u001b[0m\n",
      "\u001b[0;32m~/opt/anaconda3/lib/python3.9/site-packages/numpy/lib/histograms.py\u001b[0m in \u001b[0;36m_get_outer_edges\u001b[0;34m(a, range)\u001b[0m\n\u001b[1;32m    321\u001b[0m         \u001b[0mfirst_edge\u001b[0m\u001b[0;34m,\u001b[0m \u001b[0mlast_edge\u001b[0m \u001b[0;34m=\u001b[0m \u001b[0ma\u001b[0m\u001b[0;34m.\u001b[0m\u001b[0mmin\u001b[0m\u001b[0;34m(\u001b[0m\u001b[0;34m)\u001b[0m\u001b[0;34m,\u001b[0m \u001b[0ma\u001b[0m\u001b[0;34m.\u001b[0m\u001b[0mmax\u001b[0m\u001b[0;34m(\u001b[0m\u001b[0;34m)\u001b[0m\u001b[0;34m\u001b[0m\u001b[0;34m\u001b[0m\u001b[0m\n\u001b[1;32m    322\u001b[0m         \u001b[0;32mif\u001b[0m \u001b[0;32mnot\u001b[0m \u001b[0;34m(\u001b[0m\u001b[0mnp\u001b[0m\u001b[0;34m.\u001b[0m\u001b[0misfinite\u001b[0m\u001b[0;34m(\u001b[0m\u001b[0mfirst_edge\u001b[0m\u001b[0;34m)\u001b[0m \u001b[0;32mand\u001b[0m \u001b[0mnp\u001b[0m\u001b[0;34m.\u001b[0m\u001b[0misfinite\u001b[0m\u001b[0;34m(\u001b[0m\u001b[0mlast_edge\u001b[0m\u001b[0;34m)\u001b[0m\u001b[0;34m)\u001b[0m\u001b[0;34m:\u001b[0m\u001b[0;34m\u001b[0m\u001b[0;34m\u001b[0m\u001b[0m\n\u001b[0;32m--> 323\u001b[0;31m             raise ValueError(\n\u001b[0m\u001b[1;32m    324\u001b[0m                 \"autodetected range of [{}, {}] is not finite\".format(first_edge, last_edge))\n\u001b[1;32m    325\u001b[0m \u001b[0;34m\u001b[0m\u001b[0m\n",
      "\u001b[0;31mValueError\u001b[0m: autodetected range of [-inf, inf] is not finite"
     ]
    }
   ],
   "source": [
    "data[\"petal.width\"].plot.hist( figsize=(10,5), \n",
    "                color='#21BA72', alpha=0.5, bins=20 );\n",
    "# Ой! Что-то пойшло не так!"
   ]
  },
  {
   "cell_type": "markdown",
   "metadata": {},
   "source": [
    "## Заменяем inf и -inf на NaN"
   ]
  },
  {
   "cell_type": "code",
   "execution_count": 32,
   "metadata": {},
   "outputs": [
    {
     "data": {
      "text/html": [
       "<div>\n",
       "<style scoped>\n",
       "    .dataframe tbody tr th:only-of-type {\n",
       "        vertical-align: middle;\n",
       "    }\n",
       "\n",
       "    .dataframe tbody tr th {\n",
       "        vertical-align: top;\n",
       "    }\n",
       "\n",
       "    .dataframe thead th {\n",
       "        text-align: right;\n",
       "    }\n",
       "</style>\n",
       "<table border=\"1\" class=\"dataframe\">\n",
       "  <thead>\n",
       "    <tr style=\"text-align: right;\">\n",
       "      <th></th>\n",
       "      <th>sepal.length</th>\n",
       "      <th>sepal.width</th>\n",
       "      <th>petal.length</th>\n",
       "      <th>petal.width</th>\n",
       "      <th>variety</th>\n",
       "    </tr>\n",
       "  </thead>\n",
       "  <tbody>\n",
       "    <tr>\n",
       "      <th>14</th>\n",
       "      <td>5.8</td>\n",
       "      <td>4.0</td>\n",
       "      <td>4.616821</td>\n",
       "      <td>0.2</td>\n",
       "      <td>Setosa</td>\n",
       "    </tr>\n",
       "    <tr>\n",
       "      <th>15</th>\n",
       "      <td>5.7</td>\n",
       "      <td>4.4</td>\n",
       "      <td>4.642001</td>\n",
       "      <td>NaN</td>\n",
       "      <td>Setosa</td>\n",
       "    </tr>\n",
       "    <tr>\n",
       "      <th>16</th>\n",
       "      <td>5.4</td>\n",
       "      <td>3.9</td>\n",
       "      <td>1.065323</td>\n",
       "      <td>NaN</td>\n",
       "      <td>Setosa</td>\n",
       "    </tr>\n",
       "    <tr>\n",
       "      <th>17</th>\n",
       "      <td>5.1</td>\n",
       "      <td>3.5</td>\n",
       "      <td>4.751790</td>\n",
       "      <td>NaN</td>\n",
       "      <td>Setosa</td>\n",
       "    </tr>\n",
       "    <tr>\n",
       "      <th>18</th>\n",
       "      <td>5.7</td>\n",
       "      <td>3.8</td>\n",
       "      <td>3.878122</td>\n",
       "      <td>NaN</td>\n",
       "      <td>Setosa</td>\n",
       "    </tr>\n",
       "    <tr>\n",
       "      <th>19</th>\n",
       "      <td>5.1</td>\n",
       "      <td>3.8</td>\n",
       "      <td>3.433020</td>\n",
       "      <td>0.3</td>\n",
       "      <td>Setosa</td>\n",
       "    </tr>\n",
       "  </tbody>\n",
       "</table>\n",
       "</div>"
      ],
      "text/plain": [
       "    sepal.length  sepal.width  petal.length  petal.width variety\n",
       "14           5.8          4.0      4.616821          0.2  Setosa\n",
       "15           5.7          4.4      4.642001          NaN  Setosa\n",
       "16           5.4          3.9      1.065323          NaN  Setosa\n",
       "17           5.1          3.5      4.751790          NaN  Setosa\n",
       "18           5.7          3.8      3.878122          NaN  Setosa\n",
       "19           5.1          3.8      3.433020          0.3  Setosa"
      ]
     },
     "execution_count": 32,
     "metadata": {},
     "output_type": "execute_result"
    }
   ],
   "source": [
    "data.replace([np.inf, -np.inf], np.nan, inplace=True)\n",
    "data.iloc[14:20]"
   ]
  },
  {
   "cell_type": "markdown",
   "metadata": {},
   "source": [
    "### а дальше дело техники..."
   ]
  },
  {
   "cell_type": "markdown",
   "metadata": {},
   "source": [
    "# Устранение пропусков в линиях/рядах"
   ]
  },
  {
   "cell_type": "code",
   "execution_count": 33,
   "metadata": {},
   "outputs": [
    {
     "data": {
      "image/png": "[encoded data removed]",
      "text/plain": [
       "<Figure size 1000x500 with 1 Axes>"
      ]
     },
     "metadata": {},
     "output_type": "display_data"
    },
    {
     "data": {
      "image/png": "[encoded data removed]",
      "text/plain": [
       "<Figure size 1000x500 with 1 Axes>"
      ]
     },
     "metadata": {},
     "output_type": "display_data"
    }
   ],
   "source": [
    "sbercolors = ['#21A038','#0087CD','#00D900', '#FAED00',  '#42E3B4','#21BA72'] \n",
    "image_params = dict(figsize=(10,5), \n",
    "                color=sbercolors)\n",
    "samples = np.random.randn(1000, 5)\n",
    "\n",
    "df = pd.DataFrame(samples, \n",
    "                   index=pd.date_range(\"1/1/2015\", periods=1000),\n",
    "                   columns=list(\"ABCDE\"))\n",
    "df = df.cumsum()\n",
    "df.plot(**image_params);    \n",
    "before = df.iloc[400:420].copy()        \n",
    "df.iloc[390:450] = None\n",
    "\n",
    "df.plot(**image_params);\n",
    "  "
   ]
  },
  {
   "cell_type": "code",
   "execution_count": 34,
   "metadata": {},
   "outputs": [
    {
     "data": {
      "image/png": "[encoded data removed]",
      "text/plain": [
       "<Figure size 1000x500 with 1 Axes>"
      ]
     },
     "metadata": {},
     "output_type": "display_data"
    }
   ],
   "source": [
    "to_fill = {\"A\": df[\"A\"].interpolate(method='linear'),\n",
    "           \"B\": df[\"B\"].interpolate(method='time'),\n",
    "           \"C\": df[\"C\"].interpolate(method='pad'),\n",
    "           \"D\": df[\"D\"].interpolate(method='nearest'),\n",
    "           \"E\": df[\"E\"].interpolate(method='akima'),}\n",
    "df.fillna(value=to_fill, inplace=True)\n",
    "df.plot(**image_params);\n"
   ]
  },
  {
   "cell_type": "code",
   "execution_count": 35,
   "metadata": {},
   "outputs": [
    {
     "data": {
      "text/html": [
       "<div>\n",
       "<style scoped>\n",
       "    .dataframe tbody tr th:only-of-type {\n",
       "        vertical-align: middle;\n",
       "    }\n",
       "\n",
       "    .dataframe tbody tr th {\n",
       "        vertical-align: top;\n",
       "    }\n",
       "\n",
       "    .dataframe thead tr th {\n",
       "        text-align: left;\n",
       "    }\n",
       "</style>\n",
       "<table border=\"1\" class=\"dataframe\">\n",
       "  <thead>\n",
       "    <tr>\n",
       "      <th>subject</th>\n",
       "      <th colspan=\"5\" halign=\"left\">Before</th>\n",
       "      <th colspan=\"5\" halign=\"left\">Recycled</th>\n",
       "    </tr>\n",
       "    <tr>\n",
       "      <th>type</th>\n",
       "      <th>A</th>\n",
       "      <th>B</th>\n",
       "      <th>C</th>\n",
       "      <th>D</th>\n",
       "      <th>E</th>\n",
       "      <th>A</th>\n",
       "      <th>B</th>\n",
       "      <th>C</th>\n",
       "      <th>D</th>\n",
       "      <th>E</th>\n",
       "    </tr>\n",
       "  </thead>\n",
       "  <tbody>\n",
       "    <tr>\n",
       "      <th>2016-02-05</th>\n",
       "      <td>18.595420</td>\n",
       "      <td>8.091847</td>\n",
       "      <td>-42.815323</td>\n",
       "      <td>25.347736</td>\n",
       "      <td>-3.285927</td>\n",
       "      <td>17.572417</td>\n",
       "      <td>13.287569</td>\n",
       "      <td>-38.361477</td>\n",
       "      <td>31.556251</td>\n",
       "      <td>2.345137</td>\n",
       "    </tr>\n",
       "    <tr>\n",
       "      <th>2016-02-06</th>\n",
       "      <td>18.454872</td>\n",
       "      <td>9.702521</td>\n",
       "      <td>-41.897166</td>\n",
       "      <td>26.355621</td>\n",
       "      <td>-4.898116</td>\n",
       "      <td>17.596182</td>\n",
       "      <td>13.188167</td>\n",
       "      <td>-38.361477</td>\n",
       "      <td>31.556251</td>\n",
       "      <td>2.166103</td>\n",
       "    </tr>\n",
       "    <tr>\n",
       "      <th>2016-02-07</th>\n",
       "      <td>18.047065</td>\n",
       "      <td>8.615967</td>\n",
       "      <td>-42.977221</td>\n",
       "      <td>27.287762</td>\n",
       "      <td>-4.246331</td>\n",
       "      <td>17.619946</td>\n",
       "      <td>13.088765</td>\n",
       "      <td>-38.361477</td>\n",
       "      <td>31.556251</td>\n",
       "      <td>1.951972</td>\n",
       "    </tr>\n",
       "    <tr>\n",
       "      <th>2016-02-08</th>\n",
       "      <td>17.460895</td>\n",
       "      <td>8.156147</td>\n",
       "      <td>-43.925581</td>\n",
       "      <td>27.470233</td>\n",
       "      <td>-5.345181</td>\n",
       "      <td>17.643711</td>\n",
       "      <td>12.989362</td>\n",
       "      <td>-38.361477</td>\n",
       "      <td>31.556251</td>\n",
       "      <td>1.704823</td>\n",
       "    </tr>\n",
       "    <tr>\n",
       "      <th>2016-02-09</th>\n",
       "      <td>19.833549</td>\n",
       "      <td>7.295351</td>\n",
       "      <td>-42.725734</td>\n",
       "      <td>26.661384</td>\n",
       "      <td>-4.996456</td>\n",
       "      <td>17.667475</td>\n",
       "      <td>12.889960</td>\n",
       "      <td>-38.361477</td>\n",
       "      <td>31.556251</td>\n",
       "      <td>1.426733</td>\n",
       "    </tr>\n",
       "    <tr>\n",
       "      <th>2016-02-10</th>\n",
       "      <td>21.040162</td>\n",
       "      <td>7.525921</td>\n",
       "      <td>-43.251658</td>\n",
       "      <td>26.437132</td>\n",
       "      <td>-6.380668</td>\n",
       "      <td>17.691240</td>\n",
       "      <td>12.790557</td>\n",
       "      <td>-38.361477</td>\n",
       "      <td>31.556251</td>\n",
       "      <td>1.119782</td>\n",
       "    </tr>\n",
       "    <tr>\n",
       "      <th>2016-02-11</th>\n",
       "      <td>20.782830</td>\n",
       "      <td>6.393164</td>\n",
       "      <td>-44.511085</td>\n",
       "      <td>27.395048</td>\n",
       "      <td>-3.823874</td>\n",
       "      <td>17.715004</td>\n",
       "      <td>12.691155</td>\n",
       "      <td>-38.361477</td>\n",
       "      <td>31.556251</td>\n",
       "      <td>0.786046</td>\n",
       "    </tr>\n",
       "    <tr>\n",
       "      <th>2016-02-12</th>\n",
       "      <td>20.453193</td>\n",
       "      <td>5.711717</td>\n",
       "      <td>-43.382491</td>\n",
       "      <td>27.393747</td>\n",
       "      <td>-2.135957</td>\n",
       "      <td>17.738769</td>\n",
       "      <td>12.591753</td>\n",
       "      <td>-38.361477</td>\n",
       "      <td>31.556251</td>\n",
       "      <td>0.427604</td>\n",
       "    </tr>\n",
       "    <tr>\n",
       "      <th>2016-02-13</th>\n",
       "      <td>21.433119</td>\n",
       "      <td>4.881444</td>\n",
       "      <td>-43.363406</td>\n",
       "      <td>29.202717</td>\n",
       "      <td>-0.633050</td>\n",
       "      <td>17.762533</td>\n",
       "      <td>12.492350</td>\n",
       "      <td>-38.361477</td>\n",
       "      <td>31.556251</td>\n",
       "      <td>0.046535</td>\n",
       "    </tr>\n",
       "    <tr>\n",
       "      <th>2016-02-14</th>\n",
       "      <td>21.576198</td>\n",
       "      <td>6.056551</td>\n",
       "      <td>-43.072263</td>\n",
       "      <td>28.673945</td>\n",
       "      <td>-1.309756</td>\n",
       "      <td>17.786298</td>\n",
       "      <td>12.392948</td>\n",
       "      <td>-38.361477</td>\n",
       "      <td>31.556251</td>\n",
       "      <td>-0.355084</td>\n",
       "    </tr>\n",
       "    <tr>\n",
       "      <th>2016-02-15</th>\n",
       "      <td>20.040876</td>\n",
       "      <td>6.292727</td>\n",
       "      <td>-41.523289</td>\n",
       "      <td>28.800389</td>\n",
       "      <td>-1.128914</td>\n",
       "      <td>17.810062</td>\n",
       "      <td>12.293546</td>\n",
       "      <td>-38.361477</td>\n",
       "      <td>31.556251</td>\n",
       "      <td>-0.775174</td>\n",
       "    </tr>\n",
       "    <tr>\n",
       "      <th>2016-02-16</th>\n",
       "      <td>21.407255</td>\n",
       "      <td>7.129201</td>\n",
       "      <td>-42.396297</td>\n",
       "      <td>30.673088</td>\n",
       "      <td>-1.004212</td>\n",
       "      <td>17.833827</td>\n",
       "      <td>12.194143</td>\n",
       "      <td>-38.361477</td>\n",
       "      <td>31.556251</td>\n",
       "      <td>-1.211658</td>\n",
       "    </tr>\n",
       "    <tr>\n",
       "      <th>2016-02-17</th>\n",
       "      <td>20.355190</td>\n",
       "      <td>7.343865</td>\n",
       "      <td>-42.876476</td>\n",
       "      <td>29.167909</td>\n",
       "      <td>-1.676392</td>\n",
       "      <td>17.857591</td>\n",
       "      <td>12.094741</td>\n",
       "      <td>-38.361477</td>\n",
       "      <td>31.556251</td>\n",
       "      <td>-1.662456</td>\n",
       "    </tr>\n",
       "    <tr>\n",
       "      <th>2016-02-18</th>\n",
       "      <td>20.092655</td>\n",
       "      <td>6.770801</td>\n",
       "      <td>-40.904157</td>\n",
       "      <td>27.318241</td>\n",
       "      <td>0.088303</td>\n",
       "      <td>17.881356</td>\n",
       "      <td>11.995338</td>\n",
       "      <td>-38.361477</td>\n",
       "      <td>31.556251</td>\n",
       "      <td>-2.125492</td>\n",
       "    </tr>\n",
       "    <tr>\n",
       "      <th>2016-02-19</th>\n",
       "      <td>19.949149</td>\n",
       "      <td>7.500821</td>\n",
       "      <td>-41.951260</td>\n",
       "      <td>26.226127</td>\n",
       "      <td>0.403905</td>\n",
       "      <td>17.905120</td>\n",
       "      <td>11.895936</td>\n",
       "      <td>-38.361477</td>\n",
       "      <td>31.556251</td>\n",
       "      <td>-2.598686</td>\n",
       "    </tr>\n",
       "    <tr>\n",
       "      <th>2016-02-20</th>\n",
       "      <td>19.414401</td>\n",
       "      <td>7.390955</td>\n",
       "      <td>-41.122800</td>\n",
       "      <td>26.315530</td>\n",
       "      <td>0.531355</td>\n",
       "      <td>17.928885</td>\n",
       "      <td>11.796534</td>\n",
       "      <td>-38.361477</td>\n",
       "      <td>31.556251</td>\n",
       "      <td>-3.079961</td>\n",
       "    </tr>\n",
       "    <tr>\n",
       "      <th>2016-02-21</th>\n",
       "      <td>19.962479</td>\n",
       "      <td>8.437671</td>\n",
       "      <td>-40.553935</td>\n",
       "      <td>26.016002</td>\n",
       "      <td>0.634586</td>\n",
       "      <td>17.952649</td>\n",
       "      <td>11.697131</td>\n",
       "      <td>-38.361477</td>\n",
       "      <td>31.556251</td>\n",
       "      <td>-3.567239</td>\n",
       "    </tr>\n",
       "    <tr>\n",
       "      <th>2016-02-22</th>\n",
       "      <td>18.596817</td>\n",
       "      <td>9.370972</td>\n",
       "      <td>-39.541817</td>\n",
       "      <td>24.863764</td>\n",
       "      <td>0.683459</td>\n",
       "      <td>17.976414</td>\n",
       "      <td>11.597729</td>\n",
       "      <td>-38.361477</td>\n",
       "      <td>31.556251</td>\n",
       "      <td>-4.058441</td>\n",
       "    </tr>\n",
       "    <tr>\n",
       "      <th>2016-02-23</th>\n",
       "      <td>18.136705</td>\n",
       "      <td>9.045254</td>\n",
       "      <td>-40.815239</td>\n",
       "      <td>24.259579</td>\n",
       "      <td>1.367096</td>\n",
       "      <td>18.000178</td>\n",
       "      <td>11.498327</td>\n",
       "      <td>-38.361477</td>\n",
       "      <td>31.556251</td>\n",
       "      <td>-4.551489</td>\n",
       "    </tr>\n",
       "    <tr>\n",
       "      <th>2016-02-24</th>\n",
       "      <td>18.362551</td>\n",
       "      <td>9.371559</td>\n",
       "      <td>-41.680320</td>\n",
       "      <td>25.011890</td>\n",
       "      <td>1.525673</td>\n",
       "      <td>18.023943</td>\n",
       "      <td>11.398924</td>\n",
       "      <td>-38.361477</td>\n",
       "      <td>31.556251</td>\n",
       "      <td>-5.044305</td>\n",
       "    </tr>\n",
       "  </tbody>\n",
       "</table>\n",
       "</div>"
      ],
      "text/plain": [
       "subject        Before                                             Recycled  \\\n",
       "type                A         B          C          D         E          A   \n",
       "2016-02-05  18.595420  8.091847 -42.815323  25.347736 -3.285927  17.572417   \n",
       "2016-02-06  18.454872  9.702521 -41.897166  26.355621 -4.898116  17.596182   \n",
       "2016-02-07  18.047065  8.615967 -42.977221  27.287762 -4.246331  17.619946   \n",
       "2016-02-08  17.460895  8.156147 -43.925581  27.470233 -5.345181  17.643711   \n",
       "2016-02-09  19.833549  7.295351 -42.725734  26.661384 -4.996456  17.667475   \n",
       "2016-02-10  21.040162  7.525921 -43.251658  26.437132 -6.380668  17.691240   \n",
       "2016-02-11  20.782830  6.393164 -44.511085  27.395048 -3.823874  17.715004   \n",
       "2016-02-12  20.453193  5.711717 -43.382491  27.393747 -2.135957  17.738769   \n",
       "2016-02-13  21.433119  4.881444 -43.363406  29.202717 -0.633050  17.762533   \n",
       "2016-02-14  21.576198  6.056551 -43.072263  28.673945 -1.309756  17.786298   \n",
       "2016-02-15  20.040876  6.292727 -41.523289  28.800389 -1.128914  17.810062   \n",
       "2016-02-16  21.407255  7.129201 -42.396297  30.673088 -1.004212  17.833827   \n",
       "2016-02-17  20.355190  7.343865 -42.876476  29.167909 -1.676392  17.857591   \n",
       "2016-02-18  20.092655  6.770801 -40.904157  27.318241  0.088303  17.881356   \n",
       "2016-02-19  19.949149  7.500821 -41.951260  26.226127  0.403905  17.905120   \n",
       "2016-02-20  19.414401  7.390955 -41.122800  26.315530  0.531355  17.928885   \n",
       "2016-02-21  19.962479  8.437671 -40.553935  26.016002  0.634586  17.952649   \n",
       "2016-02-22  18.596817  9.370972 -39.541817  24.863764  0.683459  17.976414   \n",
       "2016-02-23  18.136705  9.045254 -40.815239  24.259579  1.367096  18.000178   \n",
       "2016-02-24  18.362551  9.371559 -41.680320  25.011890  1.525673  18.023943   \n",
       "\n",
       "subject                                                \n",
       "type                B          C          D         E  \n",
       "2016-02-05  13.287569 -38.361477  31.556251  2.345137  \n",
       "2016-02-06  13.188167 -38.361477  31.556251  2.166103  \n",
       "2016-02-07  13.088765 -38.361477  31.556251  1.951972  \n",
       "2016-02-08  12.989362 -38.361477  31.556251  1.704823  \n",
       "2016-02-09  12.889960 -38.361477  31.556251  1.426733  \n",
       "2016-02-10  12.790557 -38.361477  31.556251  1.119782  \n",
       "2016-02-11  12.691155 -38.361477  31.556251  0.786046  \n",
       "2016-02-12  12.591753 -38.361477  31.556251  0.427604  \n",
       "2016-02-13  12.492350 -38.361477  31.556251  0.046535  \n",
       "2016-02-14  12.392948 -38.361477  31.556251 -0.355084  \n",
       "2016-02-15  12.293546 -38.361477  31.556251 -0.775174  \n",
       "2016-02-16  12.194143 -38.361477  31.556251 -1.211658  \n",
       "2016-02-17  12.094741 -38.361477  31.556251 -1.662456  \n",
       "2016-02-18  11.995338 -38.361477  31.556251 -2.125492  \n",
       "2016-02-19  11.895936 -38.361477  31.556251 -2.598686  \n",
       "2016-02-20  11.796534 -38.361477  31.556251 -3.079961  \n",
       "2016-02-21  11.697131 -38.361477  31.556251 -3.567239  \n",
       "2016-02-22  11.597729 -38.361477  31.556251 -4.058441  \n",
       "2016-02-23  11.498327 -38.361477  31.556251 -4.551489  \n",
       "2016-02-24  11.398924 -38.361477  31.556251 -5.044305  "
      ]
     },
     "metadata": {},
     "output_type": "display_data"
    }
   ],
   "source": [
    "to_check = pd.concat((before,df.iloc[400:420]), axis=1)\n",
    "to_check.columns = pd.MultiIndex.from_product([['Before', 'Recycled'], df.columns,],\n",
    "                                     names=['subject', 'type'])\n",
    "\n",
    "display(to_check) "
   ]
  },
  {
   "cell_type": "markdown",
   "metadata": {},
   "source": [
    "#### Проверим точность восстановления по критерию $\\chi^2$"
   ]
  },
  {
   "cell_type": "code",
   "execution_count": 36,
   "metadata": {},
   "outputs": [
    {
     "data": {
      "text/plain": [
       "'A: 0.7603479385418848'"
      ]
     },
     "metadata": {},
     "output_type": "display_data"
    },
    {
     "data": {
      "text/plain": [
       "'B: 0.3086477083921349'"
      ]
     },
     "metadata": {},
     "output_type": "display_data"
    },
    {
     "data": {
      "text/plain": [
       "'C: 0.6672332488621411'"
      ]
     },
     "metadata": {},
     "output_type": "display_data"
    },
    {
     "data": {
      "text/plain": [
       "'D: 0.5623848527953577'"
      ]
     },
     "metadata": {},
     "output_type": "display_data"
    },
    {
     "data": {
      "text/plain": [
       "'E: 0.34934026865951257'"
      ]
     },
     "metadata": {},
     "output_type": "display_data"
    }
   ],
   "source": [
    "for litera in \"ABCDE\":\n",
    "    stat, p_value = chisquare([to_check[\"Before\", litera].abs(),  ## Только положительные заначения!!!\n",
    "                               to_check[\"Recycled\",litera].abs()])\n",
    "    display(f\"{litera}: {np.mean(p_value)}\") "
   ]
  },
  {
   "cell_type": "markdown",
   "metadata": {},
   "source": [
    "#### или просто посчитаем погрешность"
   ]
  },
  {
   "cell_type": "code",
   "execution_count": 37,
   "metadata": {},
   "outputs": [
    {
     "data": {
      "text/html": [
       "<style type=\"text/css\">\n",
       "#T_857a9_row0_col0 {\n",
       "  background-color: #42E3B4;\n",
       "}\n",
       "#T_857a9_row1_col0 {\n",
       "  background-color: #0087CD;\n",
       "}\n",
       "#T_857a9_row2_col0 {\n",
       "  background-color: #FAED00;\n",
       "}\n",
       "</style>\n",
       "<table id=\"T_857a9\">\n",
       "  <thead>\n",
       "    <tr>\n",
       "      <th class=\"blank level0\" >&nbsp;</th>\n",
       "      <th id=\"T_857a9_level0_col0\" class=\"col_heading level0 col0\" >Colors</th>\n",
       "    </tr>\n",
       "  </thead>\n",
       "  <tbody>\n",
       "    <tr>\n",
       "      <th id=\"T_857a9_level0_row0\" class=\"row_heading level0 row0\" >0</th>\n",
       "      <td id=\"T_857a9_row0_col0\" class=\"data row0 col0\" >MAX</td>\n",
       "    </tr>\n",
       "    <tr>\n",
       "      <th id=\"T_857a9_level0_row1\" class=\"row_heading level0 row1\" >1</th>\n",
       "      <td id=\"T_857a9_row1_col0\" class=\"data row1 col0\" >MIN</td>\n",
       "    </tr>\n",
       "    <tr>\n",
       "      <th id=\"T_857a9_level0_row2\" class=\"row_heading level0 row2\" >2</th>\n",
       "      <td id=\"T_857a9_row2_col0\" class=\"data row2 col0\" >AVERAGE</td>\n",
       "    </tr>\n",
       "  </tbody>\n",
       "</table>\n"
      ],
      "text/plain": [
       "<pandas.io.formats.style.Styler at 0x7f82b89b3ee0>"
      ]
     },
     "metadata": {},
     "output_type": "display_data"
    },
    {
     "data": {
      "text/html": [
       "<style type=\"text/css\">\n",
       "#T_c2c95_row3_col0, #T_c2c95_row5_col4, #T_c2c95_row6_col2, #T_c2c95_row8_col1, #T_c2c95_row11_col8, #T_c2c95_row12_col9, #T_c2c95_row17_col7, #T_c2c95_row18_col3, #T_c2c95_row18_col5, #T_c2c95_row19_col6 {\n",
       "  background-color: #0087CD;\n",
       "}\n",
       "#T_c2c95_row5_col9, #T_c2c95_row6_col7, #T_c2c95_row8_col6, #T_c2c95_row9_col0, #T_c2c95_row9_col5, #T_c2c95_row11_col3, #T_c2c95_row17_col2, #T_c2c95_row18_col8, #T_c2c95_row19_col1, #T_c2c95_row19_col4 {\n",
       "  background-color: #42E3B4;\n",
       "}\n",
       "#T_c2c95_row20_col0, #T_c2c95_row20_col1, #T_c2c95_row20_col2, #T_c2c95_row20_col3, #T_c2c95_row20_col4, #T_c2c95_row20_col5, #T_c2c95_row20_col6, #T_c2c95_row20_col7, #T_c2c95_row20_col8, #T_c2c95_row20_col9 {\n",
       "  background-color: #FAED00;\n",
       "}\n",
       "</style>\n",
       "<table id=\"T_c2c95\">\n",
       "  <thead>\n",
       "    <tr>\n",
       "      <th class=\"index_name level0\" >subject</th>\n",
       "      <th id=\"T_c2c95_level0_col0\" class=\"col_heading level0 col0\" colspan=\"5\">ABS</th>\n",
       "      <th id=\"T_c2c95_level0_col5\" class=\"col_heading level0 col5\" colspan=\"5\">SQR</th>\n",
       "    </tr>\n",
       "    <tr>\n",
       "      <th class=\"index_name level1\" >type</th>\n",
       "      <th id=\"T_c2c95_level1_col0\" class=\"col_heading level1 col0\" >A</th>\n",
       "      <th id=\"T_c2c95_level1_col1\" class=\"col_heading level1 col1\" >B</th>\n",
       "      <th id=\"T_c2c95_level1_col2\" class=\"col_heading level1 col2\" >C</th>\n",
       "      <th id=\"T_c2c95_level1_col3\" class=\"col_heading level1 col3\" >D</th>\n",
       "      <th id=\"T_c2c95_level1_col4\" class=\"col_heading level1 col4\" >E</th>\n",
       "      <th id=\"T_c2c95_level1_col5\" class=\"col_heading level1 col5\" >A</th>\n",
       "      <th id=\"T_c2c95_level1_col6\" class=\"col_heading level1 col6\" >B</th>\n",
       "      <th id=\"T_c2c95_level1_col7\" class=\"col_heading level1 col7\" >C</th>\n",
       "      <th id=\"T_c2c95_level1_col8\" class=\"col_heading level1 col8\" >D</th>\n",
       "      <th id=\"T_c2c95_level1_col9\" class=\"col_heading level1 col9\" >E</th>\n",
       "    </tr>\n",
       "  </thead>\n",
       "  <tbody>\n",
       "    <tr>\n",
       "      <th id=\"T_c2c95_level0_row0\" class=\"row_heading level0 row0\" >2016-02-05 00:00:00</th>\n",
       "      <td id=\"T_c2c95_row0_col0\" class=\"data row0 col0\" >1.023003</td>\n",
       "      <td id=\"T_c2c95_row0_col1\" class=\"data row0 col1\" >-5.195723</td>\n",
       "      <td id=\"T_c2c95_row0_col2\" class=\"data row0 col2\" >-4.453846</td>\n",
       "      <td id=\"T_c2c95_row0_col3\" class=\"data row0 col3\" >-6.208515</td>\n",
       "      <td id=\"T_c2c95_row0_col4\" class=\"data row0 col4\" >-5.631064</td>\n",
       "      <td id=\"T_c2c95_row0_col5\" class=\"data row0 col5\" >1.046535</td>\n",
       "      <td id=\"T_c2c95_row0_col6\" class=\"data row0 col6\" >26.995532</td>\n",
       "      <td id=\"T_c2c95_row0_col7\" class=\"data row0 col7\" >19.836743</td>\n",
       "      <td id=\"T_c2c95_row0_col8\" class=\"data row0 col8\" >38.545660</td>\n",
       "      <td id=\"T_c2c95_row0_col9\" class=\"data row0 col9\" >31.708883</td>\n",
       "    </tr>\n",
       "    <tr>\n",
       "      <th id=\"T_c2c95_level0_row1\" class=\"row_heading level0 row1\" >2016-02-06 00:00:00</th>\n",
       "      <td id=\"T_c2c95_row1_col0\" class=\"data row1 col0\" >0.858690</td>\n",
       "      <td id=\"T_c2c95_row1_col1\" class=\"data row1 col1\" >-3.485645</td>\n",
       "      <td id=\"T_c2c95_row1_col2\" class=\"data row1 col2\" >-3.535689</td>\n",
       "      <td id=\"T_c2c95_row1_col3\" class=\"data row1 col3\" >-5.200629</td>\n",
       "      <td id=\"T_c2c95_row1_col4\" class=\"data row1 col4\" >-7.064219</td>\n",
       "      <td id=\"T_c2c95_row1_col5\" class=\"data row1 col5\" >0.737349</td>\n",
       "      <td id=\"T_c2c95_row1_col6\" class=\"data row1 col6\" >12.149724</td>\n",
       "      <td id=\"T_c2c95_row1_col7\" class=\"data row1 col7\" >12.501100</td>\n",
       "      <td id=\"T_c2c95_row1_col8\" class=\"data row1 col8\" >27.046544</td>\n",
       "      <td id=\"T_c2c95_row1_col9\" class=\"data row1 col9\" >49.903186</td>\n",
       "    </tr>\n",
       "    <tr>\n",
       "      <th id=\"T_c2c95_level0_row2\" class=\"row_heading level0 row2\" >2016-02-07 00:00:00</th>\n",
       "      <td id=\"T_c2c95_row2_col0\" class=\"data row2 col0\" >0.427119</td>\n",
       "      <td id=\"T_c2c95_row2_col1\" class=\"data row2 col1\" >-4.472797</td>\n",
       "      <td id=\"T_c2c95_row2_col2\" class=\"data row2 col2\" >-4.615745</td>\n",
       "      <td id=\"T_c2c95_row2_col3\" class=\"data row2 col3\" >-4.268489</td>\n",
       "      <td id=\"T_c2c95_row2_col4\" class=\"data row2 col4\" >-6.198303</td>\n",
       "      <td id=\"T_c2c95_row2_col5\" class=\"data row2 col5\" >0.182431</td>\n",
       "      <td id=\"T_c2c95_row2_col6\" class=\"data row2 col6\" >20.005915</td>\n",
       "      <td id=\"T_c2c95_row2_col7\" class=\"data row2 col7\" >21.305097</td>\n",
       "      <td id=\"T_c2c95_row2_col8\" class=\"data row2 col8\" >18.219996</td>\n",
       "      <td id=\"T_c2c95_row2_col9\" class=\"data row2 col9\" >38.418964</td>\n",
       "    </tr>\n",
       "    <tr>\n",
       "      <th id=\"T_c2c95_level0_row3\" class=\"row_heading level0 row3\" >2016-02-08 00:00:00</th>\n",
       "      <td id=\"T_c2c95_row3_col0\" class=\"data row3 col0\" >-0.182815</td>\n",
       "      <td id=\"T_c2c95_row3_col1\" class=\"data row3 col1\" >-4.833216</td>\n",
       "      <td id=\"T_c2c95_row3_col2\" class=\"data row3 col2\" >-5.564104</td>\n",
       "      <td id=\"T_c2c95_row3_col3\" class=\"data row3 col3\" >-4.086017</td>\n",
       "      <td id=\"T_c2c95_row3_col4\" class=\"data row3 col4\" >-7.050004</td>\n",
       "      <td id=\"T_c2c95_row3_col5\" class=\"data row3 col5\" >0.033421</td>\n",
       "      <td id=\"T_c2c95_row3_col6\" class=\"data row3 col6\" >23.359972</td>\n",
       "      <td id=\"T_c2c95_row3_col7\" class=\"data row3 col7\" >30.959253</td>\n",
       "      <td id=\"T_c2c95_row3_col8\" class=\"data row3 col8\" >16.695537</td>\n",
       "      <td id=\"T_c2c95_row3_col9\" class=\"data row3 col9\" >49.702554</td>\n",
       "    </tr>\n",
       "    <tr>\n",
       "      <th id=\"T_c2c95_level0_row4\" class=\"row_heading level0 row4\" >2016-02-09 00:00:00</th>\n",
       "      <td id=\"T_c2c95_row4_col0\" class=\"data row4 col0\" >2.166073</td>\n",
       "      <td id=\"T_c2c95_row4_col1\" class=\"data row4 col1\" >-5.594609</td>\n",
       "      <td id=\"T_c2c95_row4_col2\" class=\"data row4 col2\" >-4.364257</td>\n",
       "      <td id=\"T_c2c95_row4_col3\" class=\"data row4 col3\" >-4.894867</td>\n",
       "      <td id=\"T_c2c95_row4_col4\" class=\"data row4 col4\" >-6.423189</td>\n",
       "      <td id=\"T_c2c95_row4_col5\" class=\"data row4 col5\" >4.691874</td>\n",
       "      <td id=\"T_c2c95_row4_col6\" class=\"data row4 col6\" >31.299645</td>\n",
       "      <td id=\"T_c2c95_row4_col7\" class=\"data row4 col7\" >19.046742</td>\n",
       "      <td id=\"T_c2c95_row4_col8\" class=\"data row4 col8\" >23.959722</td>\n",
       "      <td id=\"T_c2c95_row4_col9\" class=\"data row4 col9\" >41.257355</td>\n",
       "    </tr>\n",
       "    <tr>\n",
       "      <th id=\"T_c2c95_level0_row5\" class=\"row_heading level0 row5\" >2016-02-10 00:00:00</th>\n",
       "      <td id=\"T_c2c95_row5_col0\" class=\"data row5 col0\" >3.348922</td>\n",
       "      <td id=\"T_c2c95_row5_col1\" class=\"data row5 col1\" >-5.264636</td>\n",
       "      <td id=\"T_c2c95_row5_col2\" class=\"data row5 col2\" >-4.890182</td>\n",
       "      <td id=\"T_c2c95_row5_col3\" class=\"data row5 col3\" >-5.119119</td>\n",
       "      <td id=\"T_c2c95_row5_col4\" class=\"data row5 col4\" >-7.500450</td>\n",
       "      <td id=\"T_c2c95_row5_col5\" class=\"data row5 col5\" >11.215277</td>\n",
       "      <td id=\"T_c2c95_row5_col6\" class=\"data row5 col6\" >27.716394</td>\n",
       "      <td id=\"T_c2c95_row5_col7\" class=\"data row5 col7\" >23.913875</td>\n",
       "      <td id=\"T_c2c95_row5_col8\" class=\"data row5 col8\" >26.205377</td>\n",
       "      <td id=\"T_c2c95_row5_col9\" class=\"data row5 col9\" >56.256744</td>\n",
       "    </tr>\n",
       "    <tr>\n",
       "      <th id=\"T_c2c95_level0_row6\" class=\"row_heading level0 row6\" >2016-02-11 00:00:00</th>\n",
       "      <td id=\"T_c2c95_row6_col0\" class=\"data row6 col0\" >3.067826</td>\n",
       "      <td id=\"T_c2c95_row6_col1\" class=\"data row6 col1\" >-6.297991</td>\n",
       "      <td id=\"T_c2c95_row6_col2\" class=\"data row6 col2\" >-6.149608</td>\n",
       "      <td id=\"T_c2c95_row6_col3\" class=\"data row6 col3\" >-4.161202</td>\n",
       "      <td id=\"T_c2c95_row6_col4\" class=\"data row6 col4\" >-4.609920</td>\n",
       "      <td id=\"T_c2c95_row6_col5\" class=\"data row6 col5\" >9.411557</td>\n",
       "      <td id=\"T_c2c95_row6_col6\" class=\"data row6 col6\" >39.664694</td>\n",
       "      <td id=\"T_c2c95_row6_col7\" class=\"data row6 col7\" >37.817674</td>\n",
       "      <td id=\"T_c2c95_row6_col8\" class=\"data row6 col8\" >17.315605</td>\n",
       "      <td id=\"T_c2c95_row6_col9\" class=\"data row6 col9\" >21.251361</td>\n",
       "    </tr>\n",
       "    <tr>\n",
       "      <th id=\"T_c2c95_level0_row7\" class=\"row_heading level0 row7\" >2016-02-12 00:00:00</th>\n",
       "      <td id=\"T_c2c95_row7_col0\" class=\"data row7 col0\" >2.714425</td>\n",
       "      <td id=\"T_c2c95_row7_col1\" class=\"data row7 col1\" >-6.880036</td>\n",
       "      <td id=\"T_c2c95_row7_col2\" class=\"data row7 col2\" >-5.021015</td>\n",
       "      <td id=\"T_c2c95_row7_col3\" class=\"data row7 col3\" >-4.162504</td>\n",
       "      <td id=\"T_c2c95_row7_col4\" class=\"data row7 col4\" >-2.563561</td>\n",
       "      <td id=\"T_c2c95_row7_col5\" class=\"data row7 col5\" >7.368101</td>\n",
       "      <td id=\"T_c2c95_row7_col6\" class=\"data row7 col6\" >47.334896</td>\n",
       "      <td id=\"T_c2c95_row7_col7\" class=\"data row7 col7\" >25.210587</td>\n",
       "      <td id=\"T_c2c95_row7_col8\" class=\"data row7 col8\" >17.326437</td>\n",
       "      <td id=\"T_c2c95_row7_col9\" class=\"data row7 col9\" >6.571846</td>\n",
       "    </tr>\n",
       "    <tr>\n",
       "      <th id=\"T_c2c95_level0_row8\" class=\"row_heading level0 row8\" >2016-02-13 00:00:00</th>\n",
       "      <td id=\"T_c2c95_row8_col0\" class=\"data row8 col0\" >3.670586</td>\n",
       "      <td id=\"T_c2c95_row8_col1\" class=\"data row8 col1\" >-7.610907</td>\n",
       "      <td id=\"T_c2c95_row8_col2\" class=\"data row8 col2\" >-5.001929</td>\n",
       "      <td id=\"T_c2c95_row8_col3\" class=\"data row8 col3\" >-2.353534</td>\n",
       "      <td id=\"T_c2c95_row8_col4\" class=\"data row8 col4\" >-0.679585</td>\n",
       "      <td id=\"T_c2c95_row8_col5\" class=\"data row8 col5\" >13.473200</td>\n",
       "      <td id=\"T_c2c95_row8_col6\" class=\"data row8 col6\" >57.925899</td>\n",
       "      <td id=\"T_c2c95_row8_col7\" class=\"data row8 col7\" >25.019295</td>\n",
       "      <td id=\"T_c2c95_row8_col8\" class=\"data row8 col8\" >5.539122</td>\n",
       "      <td id=\"T_c2c95_row8_col9\" class=\"data row8 col9\" >0.461836</td>\n",
       "    </tr>\n",
       "    <tr>\n",
       "      <th id=\"T_c2c95_level0_row9\" class=\"row_heading level0 row9\" >2016-02-14 00:00:00</th>\n",
       "      <td id=\"T_c2c95_row9_col0\" class=\"data row9 col0\" >3.789901</td>\n",
       "      <td id=\"T_c2c95_row9_col1\" class=\"data row9 col1\" >-6.336397</td>\n",
       "      <td id=\"T_c2c95_row9_col2\" class=\"data row9 col2\" >-4.710786</td>\n",
       "      <td id=\"T_c2c95_row9_col3\" class=\"data row9 col3\" >-2.882305</td>\n",
       "      <td id=\"T_c2c95_row9_col4\" class=\"data row9 col4\" >-0.954672</td>\n",
       "      <td id=\"T_c2c95_row9_col5\" class=\"data row9 col5\" >14.363346</td>\n",
       "      <td id=\"T_c2c95_row9_col6\" class=\"data row9 col6\" >40.149926</td>\n",
       "      <td id=\"T_c2c95_row9_col7\" class=\"data row9 col7\" >22.191501</td>\n",
       "      <td id=\"T_c2c95_row9_col8\" class=\"data row9 col8\" >8.307684</td>\n",
       "      <td id=\"T_c2c95_row9_col9\" class=\"data row9 col9\" >0.911399</td>\n",
       "    </tr>\n",
       "    <tr>\n",
       "      <th id=\"T_c2c95_level0_row10\" class=\"row_heading level0 row10\" >2016-02-15 00:00:00</th>\n",
       "      <td id=\"T_c2c95_row10_col0\" class=\"data row10 col0\" >2.230814</td>\n",
       "      <td id=\"T_c2c95_row10_col1\" class=\"data row10 col1\" >-6.000819</td>\n",
       "      <td id=\"T_c2c95_row10_col2\" class=\"data row10 col2\" >-3.161812</td>\n",
       "      <td id=\"T_c2c95_row10_col3\" class=\"data row10 col3\" >-2.755862</td>\n",
       "      <td id=\"T_c2c95_row10_col4\" class=\"data row10 col4\" >-0.353740</td>\n",
       "      <td id=\"T_c2c95_row10_col5\" class=\"data row10 col5\" >4.976529</td>\n",
       "      <td id=\"T_c2c95_row10_col6\" class=\"data row10 col6\" >36.009826</td>\n",
       "      <td id=\"T_c2c95_row10_col7\" class=\"data row10 col7\" >9.997053</td>\n",
       "      <td id=\"T_c2c95_row10_col8\" class=\"data row10 col8\" >7.594775</td>\n",
       "      <td id=\"T_c2c95_row10_col9\" class=\"data row10 col9\" >0.125132</td>\n",
       "    </tr>\n",
       "    <tr>\n",
       "      <th id=\"T_c2c95_level0_row11\" class=\"row_heading level0 row11\" >2016-02-16 00:00:00</th>\n",
       "      <td id=\"T_c2c95_row11_col0\" class=\"data row11 col0\" >3.573428</td>\n",
       "      <td id=\"T_c2c95_row11_col1\" class=\"data row11 col1\" >-5.064942</td>\n",
       "      <td id=\"T_c2c95_row11_col2\" class=\"data row11 col2\" >-4.034820</td>\n",
       "      <td id=\"T_c2c95_row11_col3\" class=\"data row11 col3\" >-0.883162</td>\n",
       "      <td id=\"T_c2c95_row11_col4\" class=\"data row11 col4\" >0.207446</td>\n",
       "      <td id=\"T_c2c95_row11_col5\" class=\"data row11 col5\" >12.769389</td>\n",
       "      <td id=\"T_c2c95_row11_col6\" class=\"data row11 col6\" >25.653638</td>\n",
       "      <td id=\"T_c2c95_row11_col7\" class=\"data row11 col7\" >16.279770</td>\n",
       "      <td id=\"T_c2c95_row11_col8\" class=\"data row11 col8\" >0.779976</td>\n",
       "      <td id=\"T_c2c95_row11_col9\" class=\"data row11 col9\" >0.043034</td>\n",
       "    </tr>\n",
       "    <tr>\n",
       "      <th id=\"T_c2c95_level0_row12\" class=\"row_heading level0 row12\" >2016-02-17 00:00:00</th>\n",
       "      <td id=\"T_c2c95_row12_col0\" class=\"data row12 col0\" >2.497598</td>\n",
       "      <td id=\"T_c2c95_row12_col1\" class=\"data row12 col1\" >-4.750875</td>\n",
       "      <td id=\"T_c2c95_row12_col2\" class=\"data row12 col2\" >-4.514999</td>\n",
       "      <td id=\"T_c2c95_row12_col3\" class=\"data row12 col3\" >-2.388341</td>\n",
       "      <td id=\"T_c2c95_row12_col4\" class=\"data row12 col4\" >-0.013936</td>\n",
       "      <td id=\"T_c2c95_row12_col5\" class=\"data row12 col5\" >6.237998</td>\n",
       "      <td id=\"T_c2c95_row12_col6\" class=\"data row12 col6\" >22.570818</td>\n",
       "      <td id=\"T_c2c95_row12_col7\" class=\"data row12 col7\" >20.385216</td>\n",
       "      <td id=\"T_c2c95_row12_col8\" class=\"data row12 col8\" >5.704175</td>\n",
       "      <td id=\"T_c2c95_row12_col9\" class=\"data row12 col9\" >0.000194</td>\n",
       "    </tr>\n",
       "    <tr>\n",
       "      <th id=\"T_c2c95_level0_row13\" class=\"row_heading level0 row13\" >2016-02-18 00:00:00</th>\n",
       "      <td id=\"T_c2c95_row13_col0\" class=\"data row13 col0\" >2.211299</td>\n",
       "      <td id=\"T_c2c95_row13_col1\" class=\"data row13 col1\" >-5.224537</td>\n",
       "      <td id=\"T_c2c95_row13_col2\" class=\"data row13 col2\" >-2.542680</td>\n",
       "      <td id=\"T_c2c95_row13_col3\" class=\"data row13 col3\" >-4.238010</td>\n",
       "      <td id=\"T_c2c95_row13_col4\" class=\"data row13 col4\" >2.213795</td>\n",
       "      <td id=\"T_c2c95_row13_col5\" class=\"data row13 col5\" >4.889845</td>\n",
       "      <td id=\"T_c2c95_row13_col6\" class=\"data row13 col6\" >27.295790</td>\n",
       "      <td id=\"T_c2c95_row13_col7\" class=\"data row13 col7\" >6.465222</td>\n",
       "      <td id=\"T_c2c95_row13_col8\" class=\"data row13 col8\" >17.960730</td>\n",
       "      <td id=\"T_c2c95_row13_col9\" class=\"data row13 col9\" >4.900887</td>\n",
       "    </tr>\n",
       "    <tr>\n",
       "      <th id=\"T_c2c95_level0_row14\" class=\"row_heading level0 row14\" >2016-02-19 00:00:00</th>\n",
       "      <td id=\"T_c2c95_row14_col0\" class=\"data row14 col0\" >2.044028</td>\n",
       "      <td id=\"T_c2c95_row14_col1\" class=\"data row14 col1\" >-4.395115</td>\n",
       "      <td id=\"T_c2c95_row14_col2\" class=\"data row14 col2\" >-3.589783</td>\n",
       "      <td id=\"T_c2c95_row14_col3\" class=\"data row14 col3\" >-5.330124</td>\n",
       "      <td id=\"T_c2c95_row14_col4\" class=\"data row14 col4\" >3.002591</td>\n",
       "      <td id=\"T_c2c95_row14_col5\" class=\"data row14 col5\" >4.178052</td>\n",
       "      <td id=\"T_c2c95_row14_col6\" class=\"data row14 col6\" >19.317037</td>\n",
       "      <td id=\"T_c2c95_row14_col7\" class=\"data row14 col7\" >12.886540</td>\n",
       "      <td id=\"T_c2c95_row14_col8\" class=\"data row14 col8\" >28.410217</td>\n",
       "      <td id=\"T_c2c95_row14_col9\" class=\"data row14 col9\" >9.015554</td>\n",
       "    </tr>\n",
       "    <tr>\n",
       "      <th id=\"T_c2c95_level0_row15\" class=\"row_heading level0 row15\" >2016-02-20 00:00:00</th>\n",
       "      <td id=\"T_c2c95_row15_col0\" class=\"data row15 col0\" >1.485516</td>\n",
       "      <td id=\"T_c2c95_row15_col1\" class=\"data row15 col1\" >-4.405578</td>\n",
       "      <td id=\"T_c2c95_row15_col2\" class=\"data row15 col2\" >-2.761323</td>\n",
       "      <td id=\"T_c2c95_row15_col3\" class=\"data row15 col3\" >-5.240720</td>\n",
       "      <td id=\"T_c2c95_row15_col4\" class=\"data row15 col4\" >3.611317</td>\n",
       "      <td id=\"T_c2c95_row15_col5\" class=\"data row15 col5\" >2.206759</td>\n",
       "      <td id=\"T_c2c95_row15_col6\" class=\"data row15 col6\" >19.409120</td>\n",
       "      <td id=\"T_c2c95_row15_col7\" class=\"data row15 col7\" >7.624905</td>\n",
       "      <td id=\"T_c2c95_row15_col8\" class=\"data row15 col8\" >27.465148</td>\n",
       "      <td id=\"T_c2c95_row15_col9\" class=\"data row15 col9\" >13.041609</td>\n",
       "    </tr>\n",
       "    <tr>\n",
       "      <th id=\"T_c2c95_level0_row16\" class=\"row_heading level0 row16\" >2016-02-21 00:00:00</th>\n",
       "      <td id=\"T_c2c95_row16_col0\" class=\"data row16 col0\" >2.009830</td>\n",
       "      <td id=\"T_c2c95_row16_col1\" class=\"data row16 col1\" >-3.259460</td>\n",
       "      <td id=\"T_c2c95_row16_col2\" class=\"data row16 col2\" >-2.192458</td>\n",
       "      <td id=\"T_c2c95_row16_col3\" class=\"data row16 col3\" >-5.540248</td>\n",
       "      <td id=\"T_c2c95_row16_col4\" class=\"data row16 col4\" >4.201825</td>\n",
       "      <td id=\"T_c2c95_row16_col5\" class=\"data row16 col5\" >4.039416</td>\n",
       "      <td id=\"T_c2c95_row16_col6\" class=\"data row16 col6\" >10.624080</td>\n",
       "      <td id=\"T_c2c95_row16_col7\" class=\"data row16 col7\" >4.806871</td>\n",
       "      <td id=\"T_c2c95_row16_col8\" class=\"data row16 col8\" >30.694350</td>\n",
       "      <td id=\"T_c2c95_row16_col9\" class=\"data row16 col9\" >17.655331</td>\n",
       "    </tr>\n",
       "    <tr>\n",
       "      <th id=\"T_c2c95_level0_row17\" class=\"row_heading level0 row17\" >2016-02-22 00:00:00</th>\n",
       "      <td id=\"T_c2c95_row17_col0\" class=\"data row17 col0\" >0.620403</td>\n",
       "      <td id=\"T_c2c95_row17_col1\" class=\"data row17 col1\" >-2.226757</td>\n",
       "      <td id=\"T_c2c95_row17_col2\" class=\"data row17 col2\" >-1.180340</td>\n",
       "      <td id=\"T_c2c95_row17_col3\" class=\"data row17 col3\" >-6.692487</td>\n",
       "      <td id=\"T_c2c95_row17_col4\" class=\"data row17 col4\" >4.741899</td>\n",
       "      <td id=\"T_c2c95_row17_col5\" class=\"data row17 col5\" >0.384900</td>\n",
       "      <td id=\"T_c2c95_row17_col6\" class=\"data row17 col6\" >4.958445</td>\n",
       "      <td id=\"T_c2c95_row17_col7\" class=\"data row17 col7\" >1.393202</td>\n",
       "      <td id=\"T_c2c95_row17_col8\" class=\"data row17 col8\" >44.789380</td>\n",
       "      <td id=\"T_c2c95_row17_col9\" class=\"data row17 col9\" >22.485608</td>\n",
       "    </tr>\n",
       "    <tr>\n",
       "      <th id=\"T_c2c95_level0_row18\" class=\"row_heading level0 row18\" >2016-02-23 00:00:00</th>\n",
       "      <td id=\"T_c2c95_row18_col0\" class=\"data row18 col0\" >0.136526</td>\n",
       "      <td id=\"T_c2c95_row18_col1\" class=\"data row18 col1\" >-2.453073</td>\n",
       "      <td id=\"T_c2c95_row18_col2\" class=\"data row18 col2\" >-2.453762</td>\n",
       "      <td id=\"T_c2c95_row18_col3\" class=\"data row18 col3\" >-7.296672</td>\n",
       "      <td id=\"T_c2c95_row18_col4\" class=\"data row18 col4\" >5.918585</td>\n",
       "      <td id=\"T_c2c95_row18_col5\" class=\"data row18 col5\" >0.018639</td>\n",
       "      <td id=\"T_c2c95_row18_col6\" class=\"data row18 col6\" >6.017567</td>\n",
       "      <td id=\"T_c2c95_row18_col7\" class=\"data row18 col7\" >6.020950</td>\n",
       "      <td id=\"T_c2c95_row18_col8\" class=\"data row18 col8\" >53.241421</td>\n",
       "      <td id=\"T_c2c95_row18_col9\" class=\"data row18 col9\" >35.029643</td>\n",
       "    </tr>\n",
       "    <tr>\n",
       "      <th id=\"T_c2c95_level0_row19\" class=\"row_heading level0 row19\" >2016-02-24 00:00:00</th>\n",
       "      <td id=\"T_c2c95_row19_col0\" class=\"data row19 col0\" >0.338608</td>\n",
       "      <td id=\"T_c2c95_row19_col1\" class=\"data row19 col1\" >-2.027365</td>\n",
       "      <td id=\"T_c2c95_row19_col2\" class=\"data row19 col2\" >-3.318843</td>\n",
       "      <td id=\"T_c2c95_row19_col3\" class=\"data row19 col3\" >-6.544361</td>\n",
       "      <td id=\"T_c2c95_row19_col4\" class=\"data row19 col4\" >6.569978</td>\n",
       "      <td id=\"T_c2c95_row19_col5\" class=\"data row19 col5\" >0.114656</td>\n",
       "      <td id=\"T_c2c95_row19_col6\" class=\"data row19 col6\" >4.110209</td>\n",
       "      <td id=\"T_c2c95_row19_col7\" class=\"data row19 col7\" >11.014718</td>\n",
       "      <td id=\"T_c2c95_row19_col8\" class=\"data row19 col8\" >42.828661</td>\n",
       "      <td id=\"T_c2c95_row19_col9\" class=\"data row19 col9\" >43.164611</td>\n",
       "    </tr>\n",
       "    <tr>\n",
       "      <th id=\"T_c2c95_level0_row20\" class=\"row_heading level0 row20\" >-1</th>\n",
       "      <td id=\"T_c2c95_row20_col0\" class=\"data row20 col0\" >1.901589</td>\n",
       "      <td id=\"T_c2c95_row20_col1\" class=\"data row20 col1\" >-4.789024</td>\n",
       "      <td id=\"T_c2c95_row20_col2\" class=\"data row20 col2\" >-3.902899</td>\n",
       "      <td id=\"T_c2c95_row20_col3\" class=\"data row20 col3\" >-4.512358</td>\n",
       "      <td id=\"T_c2c95_row20_col4\" class=\"data row20 col4\" >-0.928760</td>\n",
       "      <td id=\"T_c2c95_row20_col5\" class=\"data row20 col5\" >2.320836</td>\n",
       "      <td id=\"T_c2c95_row20_col6\" class=\"data row20 col6\" >5.143054</td>\n",
       "      <td id=\"T_c2c95_row20_col7\" class=\"data row20 col7\" >4.196968</td>\n",
       "      <td id=\"T_c2c95_row20_col8\" class=\"data row20 col8\" >4.913089</td>\n",
       "      <td id=\"T_c2c95_row20_col9\" class=\"data row20 col9\" >4.822675</td>\n",
       "    </tr>\n",
       "  </tbody>\n",
       "</table>\n"
      ],
      "text/plain": [
       "<pandas.io.formats.style.Styler at 0x7f82b899cf70>"
      ]
     },
     "execution_count": 37,
     "metadata": {},
     "output_type": "execute_result"
    }
   ],
   "source": [
    "# set colors for min, max. average values\n",
    "color_set = pd.DataFrame({\"Colors\":(\"MAX\", \"MIN\", \"AVERAGE\")})\n",
    "\n",
    "def highlight_fill(s):\n",
    "    colors =  ['background-color: #42E3B4',\n",
    "            'background-color: #0087CD',\n",
    "             'background-color: #FAED00']\n",
    "    return [colors[0] if i==0 else  colors[1] if i==1 else colors[2] for i in range(len(s))]\n",
    "\n",
    "\n",
    "color_set = color_set.style.apply(highlight_fill)\n",
    "display(color_set)\n",
    "\n",
    "# count accurancy values\n",
    "\n",
    "accurancy = pd.concat( (before-df.iloc[400:420],\n",
    "                       pow((before-df.iloc[400:420]),2)), axis=1) \n",
    "accurancy.columns = pd.MultiIndex.from_product([['ABS', 'SQR'], df.columns,],\n",
    "                                     names=['subject', 'type'])\n",
    "# adding a row\n",
    "accurancy.loc[-1] = [accurancy[a_s].mean() for a_s in accurancy.columns[:5].tolist()] +\\\n",
    "                    [np.sqrt(accurancy[a_s].sum()/(len(accurancy)-1)) for a_s in accurancy.columns[5:].tolist()]  \n",
    "\n",
    "def highlight_diff_max(s):\n",
    "    if max(abs(s))==max(s): \n",
    "        idx = s.tolist().index(max(abs(s)))\n",
    "    elif max(abs(s))!=max(s):\n",
    "        idx = s.tolist().index(max(s))\n",
    "    return ['background-color: #42E3B4' if i==idx else '' for i in range(len(s))]\n",
    "\n",
    "def highlight_diff_min(s):\n",
    "    if min(abs(s))==min(s): \n",
    "        idx = s.tolist().index(min(abs(s)))\n",
    "    elif min(abs(s))!=min(s):\n",
    "        idx = s.tolist().index(min(s))\n",
    "    return ['background-color: #0087CD' if i==idx else '' for i in range(len(s))]\n",
    "\n",
    "def highlight_last_row(s):\n",
    "    return ['background-color: #FAED00' if i==len(s)-1 else '' for i in range(len(s))]\n",
    "\n",
    "accurancy = accurancy.style.apply(highlight_last_row).apply(highlight_diff_max).apply(highlight_diff_min)\n",
    "accurancy\n"
   ]
  },
  {
   "cell_type": "markdown",
   "metadata": {},
   "source": [
    "### Красиво сохраняем..."
   ]
  },
  {
   "cell_type": "code",
   "execution_count": 38,
   "metadata": {},
   "outputs": [
    {
     "data": {
      "text/plain": [
       "pandas.io.formats.style.Styler"
      ]
     },
     "execution_count": 38,
     "metadata": {},
     "output_type": "execute_result"
    }
   ],
   "source": [
    "type(accurancy)"
   ]
  },
  {
   "cell_type": "code",
   "execution_count": 39,
   "metadata": {},
   "outputs": [],
   "source": [
    "accurancy.to_excel(\"accurancy.xlsx\") # xlsx only !!!!!!!!"
   ]
  },
  {
   "cell_type": "code",
   "execution_count": null,
   "metadata": {},
   "outputs": [],
   "source": []
  }
 ],
 "metadata": {
  "kernelspec": {
   "display_name": "Python 3 (ipykernel)",
   "language": "python",
   "name": "python3"
  },
  "language_info": {
   "codemirror_mode": {
    "name": "ipython",
    "version": 3
   },
   "file_extension": ".py",
   "mimetype": "text/x-python",
   "name": "python",
   "nbconvert_exporter": "python",
   "pygments_lexer": "ipython3",
   "version": "3.9.13"
  }
 },
 "nbformat": 4,
 "nbformat_minor": 4
}
