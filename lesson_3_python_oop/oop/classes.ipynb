{
 "cells": [
  {
   "cell_type": "markdown",
   "source": [
    "[![Open In Colab](https://colab.research.google.com/assets/colab-badge.svg)](https://colab.research.google.com/github/ds-reboot/python-first-part/blob/main/notebooks/oop/classes.ipynb)"
   ],
   "metadata": {
    "collapsed": false,
    "pycharm": {
     "name": "#%% md\n"
    }
   }
  },
  {
   "cell_type": "markdown",
   "source": [
    "# Классы\n",
    "Классы генерируют множество объектов экземпляров"
   ],
   "metadata": {
    "collapsed": false,
    "pycharm": {
     "name": "#%% md\n"
    }
   }
  },
  {
   "cell_type": "markdown",
   "source": [],
   "metadata": {
    "collapsed": false,
    "pycharm": {
     "name": "#%% md\n"
    }
   }
  },
  {
   "cell_type": "code",
   "execution_count": 133,
   "metadata": {
    "collapsed": true,
    "pycharm": {
     "name": "#%%\n"
    }
   },
   "outputs": [],
   "source": [
    "# Создание класса\n",
    "class Book:\n",
    "    publisher = \"ПИТЕР\"\n",
    "\n",
    "    def __init__(self, ):\n",
    "        self.bookmark = 0\n",
    "        self.author = 'author'\n",
    "        self.title = 'title'"
   ]
  },
  {
   "cell_type": "code",
   "execution_count": 134,
   "outputs": [],
   "source": [
    "my_book = Book()"
   ],
   "metadata": {
    "collapsed": false,
    "pycharm": {
     "name": "#%%\n"
    }
   }
  },
  {
   "cell_type": "code",
   "execution_count": 135,
   "outputs": [],
   "source": [
    "my_book.title = \"Изучаем Python том 1\""
   ],
   "metadata": {
    "collapsed": false,
    "pycharm": {
     "name": "#%%\n"
    }
   }
  },
  {
   "cell_type": "code",
   "execution_count": 136,
   "outputs": [
    {
     "data": {
      "text/plain": "'Изучаем Python том 1'"
     },
     "execution_count": 136,
     "metadata": {},
     "output_type": "execute_result"
    }
   ],
   "source": [
    "my_book.title"
   ],
   "metadata": {
    "collapsed": false,
    "pycharm": {
     "name": "#%%\n"
    }
   }
  },
  {
   "cell_type": "code",
   "execution_count": 115,
   "outputs": [],
   "source": [
    "# Инициализация\n",
    "my_book = Book(\"Марк Лутц\",\"Изучаем Python том 1\")\n",
    "your_book = Book(\"Марк Лутц\", \"Изучаем Python том 2\")"
   ],
   "metadata": {
    "collapsed": false,
    "pycharm": {
     "name": "#%%\n"
    }
   }
  },
  {
   "cell_type": "code",
   "execution_count": 117,
   "outputs": [],
   "source": [
    "my_book.bookmark = 10"
   ],
   "metadata": {
    "collapsed": false,
    "pycharm": {
     "name": "#%%\n"
    }
   }
  },
  {
   "cell_type": "code",
   "execution_count": 118,
   "outputs": [
    {
     "data": {
      "text/plain": "10"
     },
     "execution_count": 118,
     "metadata": {},
     "output_type": "execute_result"
    }
   ],
   "source": [
    "my_book.bookmark"
   ],
   "metadata": {
    "collapsed": false,
    "pycharm": {
     "name": "#%%\n"
    }
   }
  },
  {
   "cell_type": "code",
   "execution_count": 113,
   "outputs": [
    {
     "data": {
      "text/plain": "'ПИТЕР'"
     },
     "execution_count": 113,
     "metadata": {},
     "output_type": "execute_result"
    }
   ],
   "source": [
    "my_book.publisher"
   ],
   "metadata": {
    "collapsed": false,
    "pycharm": {
     "name": "#%%\n"
    }
   }
  },
  {
   "cell_type": "code",
   "execution_count": 119,
   "outputs": [
    {
     "data": {
      "text/plain": "0"
     },
     "execution_count": 119,
     "metadata": {},
     "output_type": "execute_result"
    }
   ],
   "source": [
    "your_book.bookmark"
   ],
   "metadata": {
    "collapsed": false,
    "pycharm": {
     "name": "#%%\n"
    }
   }
  },
  {
   "cell_type": "code",
   "execution_count": 121,
   "outputs": [
    {
     "name": "stdout",
     "output_type": "stream",
     "text": [
      "Марк Лутц:Изучаем Python том 1\n",
      "Марк Лутц:Изучаем Python том 2\n"
     ]
    }
   ],
   "source": [
    "for book in [my_book, your_book]:\n",
    "    print(f\"{book.author}:{book.title}\")"
   ],
   "metadata": {
    "collapsed": false,
    "pycharm": {
     "name": "#%%\n"
    }
   }
  },
  {
   "cell_type": "code",
   "execution_count": 170,
   "outputs": [
    {
     "name": "stdout",
     "output_type": "stream",
     "text": [
      "Writing book.py\n"
     ]
    }
   ],
   "source": [
    "%%writefile book.py\n",
    "# Методы\n",
    "class Book:\n",
    "\n",
    "    def __init__(self, author, title):\n",
    "        self.author = author\n",
    "        self.title = title\n",
    "        self.bookmark = None\n",
    "\n",
    "    def set_bookmark(self, page_number):\n",
    "        print(f'Закладка установлена на странице {page_number}')\n",
    "        self.bookmark = page_number\n",
    "\n",
    "    def get_bookmark(self):\n",
    "        print(f'Закладка на странице {self.bookmark}')\n",
    "        return self.bookmark\n"
   ],
   "metadata": {
    "collapsed": false,
    "pycharm": {
     "name": "#%%\n"
    }
   }
  },
  {
   "cell_type": "code",
   "execution_count": 146,
   "outputs": [],
   "source": [
    "b = Book(\"Марк Лутц\",\"Изучаем Python том 1\")"
   ],
   "metadata": {
    "collapsed": false,
    "pycharm": {
     "name": "#%%\n"
    }
   }
  },
  {
   "cell_type": "code",
   "execution_count": 130,
   "outputs": [
    {
     "name": "stdout",
     "output_type": "stream",
     "text": [
      "Закладка установлена на странице 105\n"
     ]
    }
   ],
   "source": [
    "b.set_bookmark(105)"
   ],
   "metadata": {
    "collapsed": false,
    "pycharm": {
     "name": "#%%\n"
    }
   }
  },
  {
   "cell_type": "code",
   "execution_count": 131,
   "outputs": [
    {
     "name": "stdout",
     "output_type": "stream",
     "text": [
      "Закладка на странице 105\n"
     ]
    },
    {
     "data": {
      "text/plain": "105"
     },
     "execution_count": 131,
     "metadata": {},
     "output_type": "execute_result"
    }
   ],
   "source": [
    "b.get_bookmark()"
   ],
   "metadata": {
    "collapsed": false,
    "pycharm": {
     "name": "#%%\n"
    }
   }
  },
  {
   "cell_type": "code",
   "execution_count": 132,
   "outputs": [
    {
     "data": {
      "text/plain": "105"
     },
     "execution_count": 132,
     "metadata": {},
     "output_type": "execute_result"
    }
   ],
   "source": [
    "b.bookmark"
   ],
   "metadata": {
    "collapsed": false,
    "pycharm": {
     "name": "#%%\n"
    }
   }
  },
  {
   "cell_type": "code",
   "execution_count": 89,
   "outputs": [],
   "source": [
    "# Практика"
   ],
   "metadata": {
    "collapsed": false,
    "pycharm": {
     "name": "#%%\n"
    }
   }
  },
  {
   "cell_type": "code",
   "execution_count": null,
   "outputs": [],
   "source": [],
   "metadata": {
    "collapsed": false,
    "pycharm": {
     "name": "#%%\n"
    }
   }
  },
  {
   "cell_type": "markdown",
   "source": [
    "# 1. Создайте объект, который представляет собой книжную полку и продемонстрируйте ее работу\n",
    "* Книжная полка хранит объекты класса Book\n",
    "* У нее есть размер - количество книг, которое может в ней поместиться\n",
    "* Есть методы, которые позволяют положить книгу на полку и взять книгу с полки\n",
    "* Также есть метод, который показывает содержимое полки\n",
    "\n"
   ],
   "metadata": {
    "collapsed": false,
    "pycharm": {
     "name": "#%% md\n"
    }
   }
  },
  {
   "cell_type": "code",
   "execution_count": 169,
   "outputs": [
    {
     "name": "stdout",
     "output_type": "stream",
     "text": [
      "Writing bookstand.py\n"
     ]
    }
   ],
   "source": [
    "%%writefile bookstand.py\n",
    "class BookStand:\n",
    "    \"\"\" DOC \"\"\"\n",
    "    def __init__(self, size=20):\n",
    "        \"\"\" DOC INIT \"\"\"\n",
    "\n",
    "        self.size = size\n",
    "        self.book_stand = []\n",
    "\n",
    "    def put_book(self, some_book):\n",
    "        \"\"\" DOC \"\"\"\n",
    "\n",
    "        if len(self.book_stand) < self.size:\n",
    "            self.book_stand.append(some_book)\n",
    "            print(f\"{some_book.title} {some_book.author} on the book stand\")\n",
    "        else:\n",
    "            print('Too many books')\n",
    "\n",
    "    def get_book(self, some_book):\n",
    "        if self.book_stand:\n",
    "            fl = 0\n",
    "            for book in self.book_stand:\n",
    "                if book.title == some_book.title and book.author == some_book.author:\n",
    "                    selected_book = book\n",
    "                    self.book_stand.remove(some_book)\n",
    "\n",
    "                    print(f\"{some_book.title} is taken\")\n",
    "\n",
    "                    fl = 1\n",
    "                    return selected_book\n",
    "            if fl == 0:\n",
    "                print(f\"We didn't find {some_book.title}\")\n",
    "                return None\n",
    "        else:\n",
    "            print('Book stand is empty')\n",
    "            return None\n",
    "\n",
    "    def show_books(self):\n",
    "        print('On book stand now:')\n",
    "        for book in self.book_stand:\n",
    "            print(f'  {book.title} - {book.author}')"
   ],
   "metadata": {
    "collapsed": false,
    "pycharm": {
     "name": "#%%\n"
    }
   }
  },
  {
   "cell_type": "code",
   "execution_count": 151,
   "outputs": [],
   "source": [
    "book1 = Book(\"Марк Лутц\",\"Изучаем Python том 1\")\n",
    "book2 = Book(\"Марк Лутц\",\"Изучаем Python том 2\")\n",
    "book3 = Book(\"Лев Толстой\",\"Война и мир том 1\")\n",
    "book4 = Book(\"Лев Толстой\",\"Война и мир том 2\")\n",
    "book5 = Book(\"Лев Толстой\",\"Война и мир том 3\")\n",
    "book6 = Book(\"Лев Толстой\",\"Война и мир том 4\")"
   ],
   "metadata": {
    "collapsed": false,
    "pycharm": {
     "name": "#%%\n"
    }
   }
  },
  {
   "cell_type": "code",
   "execution_count": 160,
   "outputs": [],
   "source": [
    "my_book_stand = BookStand(5)"
   ],
   "metadata": {
    "collapsed": false,
    "pycharm": {
     "name": "#%%\n"
    }
   }
  },
  {
   "cell_type": "code",
   "execution_count": 161,
   "outputs": [
    {
     "name": "stdout",
     "output_type": "stream",
     "text": [
      "Изучаем Python том 1 Марк Лутц on the book stand\n"
     ]
    }
   ],
   "source": [
    "my_book_stand.put_book(book1)"
   ],
   "metadata": {
    "collapsed": false,
    "pycharm": {
     "name": "#%%\n"
    }
   }
  },
  {
   "cell_type": "code",
   "execution_count": 162,
   "outputs": [
    {
     "name": "stdout",
     "output_type": "stream",
     "text": [
      "Изучаем Python том 2 Марк Лутц on the book stand\n"
     ]
    }
   ],
   "source": [
    "my_book_stand.put_book(book2)"
   ],
   "metadata": {
    "collapsed": false,
    "pycharm": {
     "name": "#%%\n"
    }
   }
  },
  {
   "cell_type": "code",
   "execution_count": 163,
   "outputs": [
    {
     "name": "stdout",
     "output_type": "stream",
     "text": [
      "Война и мир том 2 Лев Толстой on the book stand\n"
     ]
    }
   ],
   "source": [
    "my_book_stand.put_book(book4)"
   ],
   "metadata": {
    "collapsed": false,
    "pycharm": {
     "name": "#%%\n"
    }
   }
  },
  {
   "cell_type": "code",
   "execution_count": 164,
   "outputs": [
    {
     "name": "stdout",
     "output_type": "stream",
     "text": [
      "Война и мир том 3 Лев Толстой on the book stand\n"
     ]
    }
   ],
   "source": [
    "my_book_stand.put_book(book5)"
   ],
   "metadata": {
    "collapsed": false,
    "pycharm": {
     "name": "#%%\n"
    }
   }
  },
  {
   "cell_type": "code",
   "execution_count": 165,
   "outputs": [
    {
     "name": "stdout",
     "output_type": "stream",
     "text": [
      "Война и мир том 1 Лев Толстой on the book stand\n"
     ]
    }
   ],
   "source": [
    "my_book_stand.put_book(book3)"
   ],
   "metadata": {
    "collapsed": false,
    "pycharm": {
     "name": "#%%\n"
    }
   }
  },
  {
   "cell_type": "code",
   "execution_count": 166,
   "outputs": [
    {
     "name": "stdout",
     "output_type": "stream",
     "text": [
      "Too many books\n"
     ]
    }
   ],
   "source": [
    "my_book_stand.put_book(book6)"
   ],
   "metadata": {
    "collapsed": false,
    "pycharm": {
     "name": "#%%\n"
    }
   }
  },
  {
   "cell_type": "code",
   "execution_count": 167,
   "outputs": [
    {
     "name": "stdout",
     "output_type": "stream",
     "text": [
      "On book stand now:\n",
      "  Изучаем Python том 1 - Марк Лутц\n",
      "  Изучаем Python том 2 - Марк Лутц\n",
      "  Война и мир том 2 - Лев Толстой\n",
      "  Война и мир том 3 - Лев Толстой\n",
      "  Война и мир том 1 - Лев Толстой\n"
     ]
    }
   ],
   "source": [
    "my_book_stand.show_books()"
   ],
   "metadata": {
    "collapsed": false,
    "pycharm": {
     "name": "#%%\n"
    }
   }
  },
  {
   "cell_type": "code",
   "execution_count": null,
   "outputs": [],
   "source": [],
   "metadata": {
    "collapsed": false,
    "pycharm": {
     "name": "#%%\n"
    }
   }
  },
  {
   "cell_type": "markdown",
   "source": [],
   "metadata": {
    "collapsed": false,
    "pycharm": {
     "name": "#%% md\n"
    }
   }
  },
  {
   "cell_type": "markdown",
   "source": [
    "\n",
    "# 2. Спортивное задание\n",
    "Создайте класс Атлет\n",
    "* У атлета есть имя и уровень крутости от 1 до 10\n",
    "* атлет должен уметь бегать, в зависимости от уровня он может преодолевать дистанцию быстрее\n",
    "\n",
    "Создайте класс Команда\n",
    "* У команды есть название и участники - атлеты\n",
    "\n",
    "Создайте класс Cоревнование\n",
    "* Соревнование позволяет запустить эстафету\n",
    "* Замерять общее бега время для всей команды\n",
    "* Выводить результаты по командам в виде таблицы или графика\n",
    "\n",
    "\n",
    "Создайте n команд, в которых у атлетов разные/случайные уровни крутости,\n",
    "и проведите эстафету"
   ],
   "metadata": {
    "collapsed": false,
    "pycharm": {
     "name": "#%% md\n"
    }
   }
  },
  {
   "cell_type": "code",
   "execution_count": null,
   "outputs": [],
   "source": [
    "class Athlete:\n",
    "    def __init__(self, name, rank):\n",
    "        self.name = name\n",
    "        self.rank = rank"
   ],
   "metadata": {
    "collapsed": false,
    "pycharm": {
     "name": "#%%\n"
    }
   }
  },
  {
   "cell_type": "code",
   "execution_count": null,
   "outputs": [],
   "source": [
    "class Team:\n",
    "    def __init__(self, name_team):\n",
    "        self.name_team = name_team\n",
    "        self.members = []\n",
    "    def"
   ],
   "metadata": {
    "collapsed": false,
    "pycharm": {
     "name": "#%%\n"
    }
   }
  },
  {
   "cell_type": "code",
   "execution_count": null,
   "outputs": [],
   "source": [
    "class Competition:\n",
    "    def start_competition(self,):\n",
    "        ...\n",
    "    def run_timer(self):\n",
    "        ...\n",
    "    def competition_results(self):\n",
    "        ..."
   ],
   "metadata": {
    "collapsed": false,
    "pycharm": {
     "name": "#%%\n"
    }
   }
  },
  {
   "cell_type": "code",
   "execution_count": null,
   "outputs": [],
   "source": [
    "\n",
    "athlete = Athlete()"
   ],
   "metadata": {
    "collapsed": false,
    "pycharm": {
     "name": "#%%\n"
    }
   }
  },
  {
   "cell_type": "code",
   "execution_count": 6,
   "outputs": [],
   "source": [
    "from faker import Faker\n",
    "fake = Faker('ru_RU')"
   ],
   "metadata": {
    "collapsed": false,
    "pycharm": {
     "name": "#%%\n"
    }
   }
  },
  {
   "cell_type": "code",
   "execution_count": 7,
   "outputs": [
    {
     "data": {
      "text/plain": "'Воронова Ираида Викторовна'"
     },
     "execution_count": 7,
     "metadata": {},
     "output_type": "execute_result"
    }
   ],
   "source": [
    "fake.name()"
   ],
   "metadata": {
    "collapsed": false,
    "pycharm": {
     "name": "#%%\n"
    }
   }
  },
  {
   "cell_type": "code",
   "execution_count": null,
   "outputs": [],
   "source": [
    "import random\n",
    "from typing import List\n",
    "from matplotlib import pyplot as plt\n",
    "from tqdm.auto import tqdm"
   ],
   "metadata": {
    "collapsed": false,
    "pycharm": {
     "name": "#%%\n"
    }
   }
  },
  {
   "cell_type": "code",
   "execution_count": null,
   "outputs": [],
   "source": [
    "\n",
    "class Atlas:\n",
    "\n",
    "    def __init__(self, name: str, coolness_level: int):\n",
    "        if coolness_level < 1 or coolness_level > 10:\n",
    "            raise ValueError(\"coolness level must be >= 1 and <= 10\")\n",
    "\n",
    "        self.name = name\n",
    "        self.coolness_level = coolness_level\n",
    "\n",
    "    def __repr__(self):\n",
    "        return f\"Atlas: {self.name}; Level: {self.coolness_level}\"\n"
   ],
   "metadata": {
    "collapsed": false,
    "pycharm": {
     "name": "#%%\n"
    }
   }
  },
  {
   "cell_type": "code",
   "execution_count": 17,
   "outputs": [],
   "source": [
    "class Team:\n",
    "    def __init__(self, name: str):\n",
    "        self.atlases = []\n",
    "        self.name = name\n",
    "        self.power = 0\n",
    "\n",
    "    def add_atlas(self, atlas: Atlas):\n",
    "        self.power += atlas.coolness_level\n",
    "        self.atlases.append(atlas)\n",
    "\n",
    "class Competition:\n",
    "\n",
    "    def __init__(self, *teams):\n",
    "        if teams:\n",
    "            self.teams = [*teams]\n",
    "        else:\n",
    "            self.teams = []\n",
    "\n",
    "    def add_team(self, team: Team):\n",
    "        self.teams.append(team)\n",
    "\n",
    "    def start(self):\n",
    "        time_map = self.count_time()\n",
    "        self.plot(time_map)\n",
    "\n",
    "    def count_time(self):\n",
    "        time_map = {}\n",
    "        for team in self.teams:\n",
    "            time_map[team.name] = team.power\n",
    "\n",
    "        return time_map\n",
    "\n",
    "    @staticmethod\n",
    "    def plot(time_map):\n",
    "        plt.bar(time_map.keys(), time_map.values())\n",
    "\n"
   ],
   "metadata": {
    "collapsed": false,
    "pycharm": {
     "name": "#%%\n"
    }
   }
  },
  {
   "cell_type": "code",
   "execution_count": 19,
   "outputs": [
    {
     "data": {
      "text/plain": "  0%|          | 0/100 [00:00<?, ?it/s]",
      "application/vnd.jupyter.widget-view+json": {
       "version_major": 2,
       "version_minor": 0,
       "model_id": "a5936ca5146c41adacdb77b3c8949fdc"
      }
     },
     "metadata": {},
     "output_type": "display_data"
    }
   ],
   "source": [
    "athletes  = []\n",
    "for _ in tqdm(range(100)):\n",
    "    athletes.append(Atlas(fake.name(),random.randrange(1,10)))"
   ],
   "metadata": {
    "collapsed": false,
    "pycharm": {
     "name": "#%%\n"
    }
   }
  },
  {
   "cell_type": "code",
   "execution_count": 21,
   "outputs": [],
   "source": [
    "# athletes"
   ],
   "metadata": {
    "collapsed": false,
    "pycharm": {
     "name": "#%%\n"
    }
   }
  },
  {
   "cell_type": "code",
   "execution_count": 24,
   "outputs": [],
   "source": [
    "teams = []\n",
    "for team_name in ['Spartak', 'Dinamo','SKA','Loco', 'Microsoft']:\n",
    "    team = Team(team_name)\n",
    "    for _ in range(10):\n",
    "        team.add_atlas(Atlas(fake.name(),random.randrange(1,10)))\n",
    "    teams.append(team)\n"
   ],
   "metadata": {
    "collapsed": false,
    "pycharm": {
     "name": "#%%\n"
    }
   }
  },
  {
   "cell_type": "code",
   "execution_count": 26,
   "outputs": [],
   "source": [
    "competition = Competition(*teams)"
   ],
   "metadata": {
    "collapsed": false,
    "pycharm": {
     "name": "#%%\n"
    }
   }
  },
  {
   "cell_type": "code",
   "execution_count": 27,
   "outputs": [
    {
     "data": {
      "text/plain": "<Figure size 432x288 with 1 Axes>",
      "image/png": "[encoded data removed]"
     },
     "metadata": {
      "needs_background": "light"
     },
     "output_type": "display_data"
    }
   ],
   "source": [
    "competition.start()"
   ],
   "metadata": {
    "collapsed": false,
    "pycharm": {
     "name": "#%%\n"
    }
   }
  },
  {
   "cell_type": "code",
   "execution_count": null,
   "outputs": [],
   "source": [],
   "metadata": {
    "collapsed": false,
    "pycharm": {
     "name": "#%%\n"
    }
   }
  },
  {
   "cell_type": "code",
   "execution_count": null,
   "outputs": [],
   "source": [
    "class Athlete:\n",
    "    speed: int\n",
    "\n",
    "    def __init__(self, name, level):\n",
    "        self.name = name\n",
    "        self.level = level\n",
    "\n",
    "    def run(self):\n",
    "        if self.level > 0:\n",
    "            speed = 5\n",
    "        if self.level <= 5:\n",
    "            speed = 10\n",
    "        if self.level <= 10:\n",
    "            speed = 15\n",
    "        else:\n",
    "            print('Такой уровень не существует')\n",
    "\n",
    "class Team:\n",
    "\n",
    "    def __init__(self, name_team, athlete):\n",
    "        self.name_team = name_team"
   ],
   "metadata": {
    "collapsed": false,
    "pycharm": {
     "name": "#%%\n"
    }
   }
  }
 ],
 "metadata": {
  "kernelspec": {
   "display_name": "Python 3",
   "language": "python",
   "name": "python3"
  },
  "language_info": {
   "codemirror_mode": {
    "name": "ipython",
    "version": 2
   },
   "file_extension": ".py",
   "mimetype": "text/x-python",
   "name": "python",
   "nbconvert_exporter": "python",
   "pygments_lexer": "ipython2",
   "version": "2.7.6"
  }
 },
 "nbformat": 4,
 "nbformat_minor": 0
}